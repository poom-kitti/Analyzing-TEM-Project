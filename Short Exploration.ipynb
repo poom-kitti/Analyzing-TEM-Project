{
 "cells": [
  {
   "cell_type": "code",
   "execution_count": 1,
   "metadata": {},
   "outputs": [],
   "source": [
    "import numpy as np\n",
    "import pandas as pd\n",
    "import seaborn as sns\n",
    "import matplotlib.pyplot as plt\n",
    "\n",
    "%matplotlib inline"
   ]
  },
  {
   "cell_type": "code",
   "execution_count": 2,
   "metadata": {},
   "outputs": [],
   "source": [
    "sns.set_style('whitegrid')"
   ]
  },
  {
   "cell_type": "code",
   "execution_count": 3,
   "metadata": {},
   "outputs": [],
   "source": [
    "df = pd.read_csv('tem_survey_clean.csv')"
   ]
  },
  {
   "cell_type": "code",
   "execution_count": 4,
   "metadata": {},
   "outputs": [
    {
     "data": {
      "text/html": [
       "<div>\n",
       "<style scoped>\n",
       "    .dataframe tbody tr th:only-of-type {\n",
       "        vertical-align: middle;\n",
       "    }\n",
       "\n",
       "    .dataframe tbody tr th {\n",
       "        vertical-align: top;\n",
       "    }\n",
       "\n",
       "    .dataframe thead th {\n",
       "        text-align: right;\n",
       "    }\n",
       "</style>\n",
       "<table border=\"1\" class=\"dataframe\">\n",
       "  <thead>\n",
       "    <tr style=\"text-align: right;\">\n",
       "      <th></th>\n",
       "      <th>Timestamp</th>\n",
       "      <th>Language</th>\n",
       "      <th>P1Q1</th>\n",
       "      <th>P1Q2</th>\n",
       "      <th>P1Q3</th>\n",
       "      <th>P1 Overall</th>\n",
       "      <th>P2Q1</th>\n",
       "      <th>P2Q2</th>\n",
       "      <th>P2Q3</th>\n",
       "      <th>P2 Overall</th>\n",
       "      <th>P3Q1</th>\n",
       "      <th>P3Q2</th>\n",
       "      <th>P3Q3</th>\n",
       "      <th>P3 Overall</th>\n",
       "      <th>P4Q1</th>\n",
       "      <th>P4Q2</th>\n",
       "      <th>P4Q3</th>\n",
       "      <th>P4 Overall</th>\n",
       "      <th>Overall</th>\n",
       "      <th>Comment</th>\n",
       "    </tr>\n",
       "  </thead>\n",
       "  <tbody>\n",
       "    <tr>\n",
       "      <th>0</th>\n",
       "      <td>2020-03-23 17:57:29</td>\n",
       "      <td>English</td>\n",
       "      <td>2.50</td>\n",
       "      <td>2.50</td>\n",
       "      <td>5.00</td>\n",
       "      <td>3.333333</td>\n",
       "      <td>2.50</td>\n",
       "      <td>2.50</td>\n",
       "      <td>3.75</td>\n",
       "      <td>2.916667</td>\n",
       "      <td>5.00</td>\n",
       "      <td>3.75</td>\n",
       "      <td>5.0</td>\n",
       "      <td>4.583333</td>\n",
       "      <td>5.00</td>\n",
       "      <td>5.00</td>\n",
       "      <td>5.00</td>\n",
       "      <td>5.000000</td>\n",
       "      <td>8</td>\n",
       "      <td>NaN</td>\n",
       "    </tr>\n",
       "    <tr>\n",
       "      <th>1</th>\n",
       "      <td>2020-03-27 09:52:05</td>\n",
       "      <td>Thai</td>\n",
       "      <td>2.50</td>\n",
       "      <td>3.75</td>\n",
       "      <td>3.75</td>\n",
       "      <td>3.333333</td>\n",
       "      <td>2.50</td>\n",
       "      <td>0.00</td>\n",
       "      <td>1.25</td>\n",
       "      <td>1.250000</td>\n",
       "      <td>3.75</td>\n",
       "      <td>2.50</td>\n",
       "      <td>2.5</td>\n",
       "      <td>2.916667</td>\n",
       "      <td>3.75</td>\n",
       "      <td>0.00</td>\n",
       "      <td>1.25</td>\n",
       "      <td>1.666667</td>\n",
       "      <td>6</td>\n",
       "      <td>ควรมีระบบเลือกวิชาได้แบบเป็น tab แทนที่ต้องกลั...</td>\n",
       "    </tr>\n",
       "    <tr>\n",
       "      <th>2</th>\n",
       "      <td>2020-03-27 10:38:26</td>\n",
       "      <td>English</td>\n",
       "      <td>3.75</td>\n",
       "      <td>5.00</td>\n",
       "      <td>3.75</td>\n",
       "      <td>4.166667</td>\n",
       "      <td>2.50</td>\n",
       "      <td>2.50</td>\n",
       "      <td>2.50</td>\n",
       "      <td>2.500000</td>\n",
       "      <td>3.75</td>\n",
       "      <td>3.75</td>\n",
       "      <td>2.5</td>\n",
       "      <td>3.333333</td>\n",
       "      <td>3.75</td>\n",
       "      <td>2.50</td>\n",
       "      <td>2.50</td>\n",
       "      <td>2.916667</td>\n",
       "      <td>8</td>\n",
       "      <td>NaN</td>\n",
       "    </tr>\n",
       "    <tr>\n",
       "      <th>3</th>\n",
       "      <td>2020-03-27 10:42:39</td>\n",
       "      <td>Thai</td>\n",
       "      <td>1.25</td>\n",
       "      <td>1.25</td>\n",
       "      <td>2.50</td>\n",
       "      <td>1.666667</td>\n",
       "      <td>3.75</td>\n",
       "      <td>2.50</td>\n",
       "      <td>2.50</td>\n",
       "      <td>2.916667</td>\n",
       "      <td>3.75</td>\n",
       "      <td>3.75</td>\n",
       "      <td>2.5</td>\n",
       "      <td>3.333333</td>\n",
       "      <td>2.50</td>\n",
       "      <td>2.50</td>\n",
       "      <td>2.50</td>\n",
       "      <td>2.500000</td>\n",
       "      <td>6</td>\n",
       "      <td>NaN</td>\n",
       "    </tr>\n",
       "    <tr>\n",
       "      <th>4</th>\n",
       "      <td>2020-03-27 10:45:40</td>\n",
       "      <td>Thai</td>\n",
       "      <td>2.50</td>\n",
       "      <td>3.75</td>\n",
       "      <td>5.00</td>\n",
       "      <td>3.750000</td>\n",
       "      <td>5.00</td>\n",
       "      <td>3.75</td>\n",
       "      <td>2.50</td>\n",
       "      <td>3.750000</td>\n",
       "      <td>5.00</td>\n",
       "      <td>3.75</td>\n",
       "      <td>2.5</td>\n",
       "      <td>3.750000</td>\n",
       "      <td>5.00</td>\n",
       "      <td>1.25</td>\n",
       "      <td>3.75</td>\n",
       "      <td>3.333333</td>\n",
       "      <td>7</td>\n",
       "      <td>ตรงหน้าแรกสุดที่จะมีหน้าต่างฟ้าๆเตือนว่ามีงานอ...</td>\n",
       "    </tr>\n",
       "  </tbody>\n",
       "</table>\n",
       "</div>"
      ],
      "text/plain": [
       "             Timestamp Language  P1Q1  P1Q2  P1Q3  P1 Overall  P2Q1  P2Q2  \\\n",
       "0  2020-03-23 17:57:29  English  2.50  2.50  5.00    3.333333  2.50  2.50   \n",
       "1  2020-03-27 09:52:05     Thai  2.50  3.75  3.75    3.333333  2.50  0.00   \n",
       "2  2020-03-27 10:38:26  English  3.75  5.00  3.75    4.166667  2.50  2.50   \n",
       "3  2020-03-27 10:42:39     Thai  1.25  1.25  2.50    1.666667  3.75  2.50   \n",
       "4  2020-03-27 10:45:40     Thai  2.50  3.75  5.00    3.750000  5.00  3.75   \n",
       "\n",
       "   P2Q3  P2 Overall  P3Q1  P3Q2  P3Q3  P3 Overall  P4Q1  P4Q2  P4Q3  \\\n",
       "0  3.75    2.916667  5.00  3.75   5.0    4.583333  5.00  5.00  5.00   \n",
       "1  1.25    1.250000  3.75  2.50   2.5    2.916667  3.75  0.00  1.25   \n",
       "2  2.50    2.500000  3.75  3.75   2.5    3.333333  3.75  2.50  2.50   \n",
       "3  2.50    2.916667  3.75  3.75   2.5    3.333333  2.50  2.50  2.50   \n",
       "4  2.50    3.750000  5.00  3.75   2.5    3.750000  5.00  1.25  3.75   \n",
       "\n",
       "   P4 Overall  Overall                                            Comment  \n",
       "0    5.000000        8                                                NaN  \n",
       "1    1.666667        6  ควรมีระบบเลือกวิชาได้แบบเป็น tab แทนที่ต้องกลั...  \n",
       "2    2.916667        8                                                NaN  \n",
       "3    2.500000        6                                                NaN  \n",
       "4    3.333333        7  ตรงหน้าแรกสุดที่จะมีหน้าต่างฟ้าๆเตือนว่ามีงานอ...  "
      ]
     },
     "execution_count": 4,
     "metadata": {},
     "output_type": "execute_result"
    }
   ],
   "source": [
    "df.head()"
   ]
  },
  {
   "cell_type": "code",
   "execution_count": 5,
   "metadata": {},
   "outputs": [],
   "source": [
    "#The timestamp and comment are unnecessary \n",
    "df = df.drop(['Timestamp', 'Comment'], axis=1)"
   ]
  },
  {
   "cell_type": "markdown",
   "metadata": {},
   "source": [
    "**Finding average score based on questions**"
   ]
  },
  {
   "cell_type": "code",
   "execution_count": 6,
   "metadata": {},
   "outputs": [],
   "source": [
    "q1 = ['P'+str(x)+'Q1' for x in range(1,5)]\n",
    "q2 = ['P'+str(x)+'Q2' for x in range(1,5)]\n",
    "q3 = ['P'+str(x)+'Q3' for x in range(1,5)]"
   ]
  },
  {
   "cell_type": "code",
   "execution_count": 7,
   "metadata": {},
   "outputs": [],
   "source": [
    "for i,question in enumerate([q1,q2,q3]):\n",
    "    df['Q'+str(i+1)+' Overall'] = df[question].sum(axis=1)/4"
   ]
  },
  {
   "cell_type": "code",
   "execution_count": 8,
   "metadata": {},
   "outputs": [
    {
     "data": {
      "text/html": [
       "<div>\n",
       "<style scoped>\n",
       "    .dataframe tbody tr th:only-of-type {\n",
       "        vertical-align: middle;\n",
       "    }\n",
       "\n",
       "    .dataframe tbody tr th {\n",
       "        vertical-align: top;\n",
       "    }\n",
       "\n",
       "    .dataframe thead th {\n",
       "        text-align: right;\n",
       "    }\n",
       "</style>\n",
       "<table border=\"1\" class=\"dataframe\">\n",
       "  <thead>\n",
       "    <tr style=\"text-align: right;\">\n",
       "      <th></th>\n",
       "      <th>Language</th>\n",
       "      <th>P1Q1</th>\n",
       "      <th>P1Q2</th>\n",
       "      <th>P1Q3</th>\n",
       "      <th>P1 Overall</th>\n",
       "      <th>P2Q1</th>\n",
       "      <th>P2Q2</th>\n",
       "      <th>P2Q3</th>\n",
       "      <th>P2 Overall</th>\n",
       "      <th>P3Q1</th>\n",
       "      <th>...</th>\n",
       "      <th>P3Q3</th>\n",
       "      <th>P3 Overall</th>\n",
       "      <th>P4Q1</th>\n",
       "      <th>P4Q2</th>\n",
       "      <th>P4Q3</th>\n",
       "      <th>P4 Overall</th>\n",
       "      <th>Overall</th>\n",
       "      <th>Q1 Overall</th>\n",
       "      <th>Q2 Overall</th>\n",
       "      <th>Q3 Overall</th>\n",
       "    </tr>\n",
       "  </thead>\n",
       "  <tbody>\n",
       "    <tr>\n",
       "      <th>0</th>\n",
       "      <td>English</td>\n",
       "      <td>2.50</td>\n",
       "      <td>2.50</td>\n",
       "      <td>5.00</td>\n",
       "      <td>3.333333</td>\n",
       "      <td>2.50</td>\n",
       "      <td>2.50</td>\n",
       "      <td>3.75</td>\n",
       "      <td>2.916667</td>\n",
       "      <td>5.00</td>\n",
       "      <td>...</td>\n",
       "      <td>5.0</td>\n",
       "      <td>4.583333</td>\n",
       "      <td>5.00</td>\n",
       "      <td>5.00</td>\n",
       "      <td>5.00</td>\n",
       "      <td>5.000000</td>\n",
       "      <td>8</td>\n",
       "      <td>3.7500</td>\n",
       "      <td>3.4375</td>\n",
       "      <td>4.6875</td>\n",
       "    </tr>\n",
       "    <tr>\n",
       "      <th>1</th>\n",
       "      <td>Thai</td>\n",
       "      <td>2.50</td>\n",
       "      <td>3.75</td>\n",
       "      <td>3.75</td>\n",
       "      <td>3.333333</td>\n",
       "      <td>2.50</td>\n",
       "      <td>0.00</td>\n",
       "      <td>1.25</td>\n",
       "      <td>1.250000</td>\n",
       "      <td>3.75</td>\n",
       "      <td>...</td>\n",
       "      <td>2.5</td>\n",
       "      <td>2.916667</td>\n",
       "      <td>3.75</td>\n",
       "      <td>0.00</td>\n",
       "      <td>1.25</td>\n",
       "      <td>1.666667</td>\n",
       "      <td>6</td>\n",
       "      <td>3.1250</td>\n",
       "      <td>1.5625</td>\n",
       "      <td>2.1875</td>\n",
       "    </tr>\n",
       "    <tr>\n",
       "      <th>2</th>\n",
       "      <td>English</td>\n",
       "      <td>3.75</td>\n",
       "      <td>5.00</td>\n",
       "      <td>3.75</td>\n",
       "      <td>4.166667</td>\n",
       "      <td>2.50</td>\n",
       "      <td>2.50</td>\n",
       "      <td>2.50</td>\n",
       "      <td>2.500000</td>\n",
       "      <td>3.75</td>\n",
       "      <td>...</td>\n",
       "      <td>2.5</td>\n",
       "      <td>3.333333</td>\n",
       "      <td>3.75</td>\n",
       "      <td>2.50</td>\n",
       "      <td>2.50</td>\n",
       "      <td>2.916667</td>\n",
       "      <td>8</td>\n",
       "      <td>3.4375</td>\n",
       "      <td>3.4375</td>\n",
       "      <td>2.8125</td>\n",
       "    </tr>\n",
       "    <tr>\n",
       "      <th>3</th>\n",
       "      <td>Thai</td>\n",
       "      <td>1.25</td>\n",
       "      <td>1.25</td>\n",
       "      <td>2.50</td>\n",
       "      <td>1.666667</td>\n",
       "      <td>3.75</td>\n",
       "      <td>2.50</td>\n",
       "      <td>2.50</td>\n",
       "      <td>2.916667</td>\n",
       "      <td>3.75</td>\n",
       "      <td>...</td>\n",
       "      <td>2.5</td>\n",
       "      <td>3.333333</td>\n",
       "      <td>2.50</td>\n",
       "      <td>2.50</td>\n",
       "      <td>2.50</td>\n",
       "      <td>2.500000</td>\n",
       "      <td>6</td>\n",
       "      <td>2.8125</td>\n",
       "      <td>2.5000</td>\n",
       "      <td>2.5000</td>\n",
       "    </tr>\n",
       "    <tr>\n",
       "      <th>4</th>\n",
       "      <td>Thai</td>\n",
       "      <td>2.50</td>\n",
       "      <td>3.75</td>\n",
       "      <td>5.00</td>\n",
       "      <td>3.750000</td>\n",
       "      <td>5.00</td>\n",
       "      <td>3.75</td>\n",
       "      <td>2.50</td>\n",
       "      <td>3.750000</td>\n",
       "      <td>5.00</td>\n",
       "      <td>...</td>\n",
       "      <td>2.5</td>\n",
       "      <td>3.750000</td>\n",
       "      <td>5.00</td>\n",
       "      <td>1.25</td>\n",
       "      <td>3.75</td>\n",
       "      <td>3.333333</td>\n",
       "      <td>7</td>\n",
       "      <td>4.3750</td>\n",
       "      <td>3.1250</td>\n",
       "      <td>3.4375</td>\n",
       "    </tr>\n",
       "  </tbody>\n",
       "</table>\n",
       "<p>5 rows × 21 columns</p>\n",
       "</div>"
      ],
      "text/plain": [
       "  Language  P1Q1  P1Q2  P1Q3  P1 Overall  P2Q1  P2Q2  P2Q3  P2 Overall  P3Q1  \\\n",
       "0  English  2.50  2.50  5.00    3.333333  2.50  2.50  3.75    2.916667  5.00   \n",
       "1     Thai  2.50  3.75  3.75    3.333333  2.50  0.00  1.25    1.250000  3.75   \n",
       "2  English  3.75  5.00  3.75    4.166667  2.50  2.50  2.50    2.500000  3.75   \n",
       "3     Thai  1.25  1.25  2.50    1.666667  3.75  2.50  2.50    2.916667  3.75   \n",
       "4     Thai  2.50  3.75  5.00    3.750000  5.00  3.75  2.50    3.750000  5.00   \n",
       "\n",
       "   ...  P3Q3  P3 Overall  P4Q1  P4Q2  P4Q3  P4 Overall  Overall  Q1 Overall  \\\n",
       "0  ...   5.0    4.583333  5.00  5.00  5.00    5.000000        8      3.7500   \n",
       "1  ...   2.5    2.916667  3.75  0.00  1.25    1.666667        6      3.1250   \n",
       "2  ...   2.5    3.333333  3.75  2.50  2.50    2.916667        8      3.4375   \n",
       "3  ...   2.5    3.333333  2.50  2.50  2.50    2.500000        6      2.8125   \n",
       "4  ...   2.5    3.750000  5.00  1.25  3.75    3.333333        7      4.3750   \n",
       "\n",
       "   Q2 Overall  Q3 Overall  \n",
       "0      3.4375      4.6875  \n",
       "1      1.5625      2.1875  \n",
       "2      3.4375      2.8125  \n",
       "3      2.5000      2.5000  \n",
       "4      3.1250      3.4375  \n",
       "\n",
       "[5 rows x 21 columns]"
      ]
     },
     "execution_count": 8,
     "metadata": {},
     "output_type": "execute_result"
    }
   ],
   "source": [
    "df.head()"
   ]
  },
  {
   "cell_type": "markdown",
   "metadata": {},
   "source": [
    "## Data Exploration\n",
    "I want to explore what factors influenced the user's overall score rating the most.\n",
    "However, since there is only 64 data, the conclusion will not be accurate"
   ]
  },
  {
   "cell_type": "markdown",
   "metadata": {},
   "source": [
    "**Display Language** \n",
    "<br />\n",
    "The assumption will be that the language the user used to display myCourseVille will also be the same language they took for the survey because people would typically have a preferred language."
   ]
  },
  {
   "cell_type": "code",
   "execution_count": 9,
   "metadata": {},
   "outputs": [
    {
     "data": {
      "text/plain": [
       "Thai       46\n",
       "English    18\n",
       "Name: Language, dtype: int64"
      ]
     },
     "execution_count": 9,
     "metadata": {},
     "output_type": "execute_result"
    }
   ],
   "source": [
    "df['Language'].value_counts()"
   ]
  },
  {
   "cell_type": "code",
   "execution_count": 10,
   "metadata": {},
   "outputs": [
    {
     "data": {
      "text/plain": [
       "<matplotlib.axes._subplots.AxesSubplot at 0x19c80ecfb88>"
      ]
     },
     "execution_count": 10,
     "metadata": {},
     "output_type": "execute_result"
    },
    {
     "data": {
      "image/png": "[encoded data removed]",
      "text/plain": [
       "<Figure size 432x288 with 1 Axes>"
      ]
     },
     "metadata": {},
     "output_type": "display_data"
    }
   ],
   "source": [
    "sns.boxplot(x='Language', y='Overall', data=df)"
   ]
  },
  {
   "cell_type": "code",
   "execution_count": 11,
   "metadata": {},
   "outputs": [
    {
     "data": {
      "text/plain": [
       "Language\n",
       "English    6.944444\n",
       "Thai       7.565217\n",
       "Name: Overall, dtype: float64"
      ]
     },
     "execution_count": 11,
     "metadata": {},
     "output_type": "execute_result"
    }
   ],
   "source": [
    "df.groupby('Language').mean()['Overall']"
   ]
  },
  {
   "cell_type": "markdown",
   "metadata": {},
   "source": [
    "The data suggested that people who possibly displayed the platform in English language on average rated the platform more negatively than people who possibly displayed the platform in Thai. Since the website myCourseVille was implemented mostly to be used by Thai students, this could reflect that the English translation of the interface could be a little awkward for native English speakers. "
   ]
  },
  {
   "cell_type": "markdown",
   "metadata": {},
   "source": [
    "**Part**\n",
    "<br />\n",
    "Does user concerned most about a specific part/phase of the platform?\n",
    "<br/><br/>\n",
    "\n",
    "Part 1 = Signing up <br/>\n",
    "Part 2 = Finding/Registering course <br/>\n",
    "Part 3 = Finding assignment<br/>\n",
    "Part 4 = Submitting assignment<br/>"
   ]
  },
  {
   "cell_type": "code",
   "execution_count": 12,
   "metadata": {},
   "outputs": [
    {
     "data": {
      "text/plain": [
       "P4 Overall    0.569971\n",
       "P2 Overall    0.588012\n",
       "P3 Overall    0.597466\n",
       "P1 Overall    0.611177\n",
       "Overall       1.000000\n",
       "Name: Overall, dtype: float64"
      ]
     },
     "execution_count": 12,
     "metadata": {},
     "output_type": "execute_result"
    }
   ],
   "source": [
    "df[['P1 Overall', 'P2 Overall', 'P3 Overall', 'P4 Overall', 'Overall']].corr()['Overall'].sort_values()"
   ]
  },
  {
   "cell_type": "code",
   "execution_count": 13,
   "metadata": {},
   "outputs": [
    {
     "data": {
      "text/plain": [
       "<matplotlib.axes._subplots.AxesSubplot at 0x19c860ac588>"
      ]
     },
     "execution_count": 13,
     "metadata": {},
     "output_type": "execute_result"
    },
    {
     "data": {
      "image/png": "[encoded data removed]",
      "text/plain": [
       "<Figure size 432x288 with 1 Axes>"
      ]
     },
     "metadata": {},
     "output_type": "display_data"
    }
   ],
   "source": [
    "df[['P1 Overall', 'P2 Overall', 'P3 Overall', 'P4 Overall', 'Overall']].corr()['Overall'].drop('Overall').plot.bar()"
   ]
  },
  {
   "cell_type": "markdown",
   "metadata": {},
   "source": [
    "Since the correlations between the average score given to each part and the overall score are nearly equal, there does not seem to be any specific part/phase the user is mostly concerned about when giving overall score."
   ]
  },
  {
   "cell_type": "markdown",
   "metadata": {},
   "source": [
    "**Question = Aspect**<br/>\n",
    "Is there a certain aspect the user mostly concerned about when giving overall score?\n",
    "<br/><br/>\n",
    "Q1 = Ease of use<br/>\n",
    "Q2 = Awkwardness<br/>\n",
    "Q3 = Well integrated"
   ]
  },
  {
   "cell_type": "code",
   "execution_count": 14,
   "metadata": {},
   "outputs": [
    {
     "data": {
      "text/plain": [
       "Q2 Overall    0.553148\n",
       "Q3 Overall    0.610292\n",
       "Q1 Overall    0.669029\n",
       "Overall       1.000000\n",
       "Name: Overall, dtype: float64"
      ]
     },
     "execution_count": 14,
     "metadata": {},
     "output_type": "execute_result"
    }
   ],
   "source": [
    "df[['Q1 Overall', 'Q2 Overall', 'Q3 Overall', 'Overall']].corr()['Overall'].sort_values()"
   ]
  },
  {
   "cell_type": "code",
   "execution_count": 15,
   "metadata": {},
   "outputs": [
    {
     "data": {
      "text/plain": [
       "<matplotlib.axes._subplots.AxesSubplot at 0x19c8624ec88>"
      ]
     },
     "execution_count": 15,
     "metadata": {},
     "output_type": "execute_result"
    },
    {
     "data": {
      "image/png": "[encoded data removed]",
      "text/plain": [
       "<Figure size 432x288 with 1 Axes>"
      ]
     },
     "metadata": {},
     "output_type": "display_data"
    }
   ],
   "source": [
    "df[['Q1 Overall', 'Q2 Overall', 'Q3 Overall', 'Overall']].corr()['Overall'].drop('Overall').plot.bar()"
   ]
  },
  {
   "cell_type": "markdown",
   "metadata": {},
   "source": [
    "Since the correlation between score of Q1 and overall score is highest, the data suggested that the user may concern the most about the platform being easy to use. Therefore, the UX/UI team may need to focus on this area when implementing new features."
   ]
  },
  {
   "cell_type": "markdown",
   "metadata": {},
   "source": [
    "## Machine Learning & Deep Learning\n",
    "The amount of data is way too small to create a reliable model, so this part is just for fun"
   ]
  },
  {
   "cell_type": "markdown",
   "metadata": {},
   "source": [
    "**Pre-processing**"
   ]
  },
  {
   "cell_type": "code",
   "execution_count": 16,
   "metadata": {},
   "outputs": [],
   "source": [
    "#Dropping all the average columns based on part/question\n",
    "df = df.drop(['P1 Overall', 'P2 Overall', 'P3 Overall', 'P4 Overall', 'Q1 Overall', 'Q2 Overall', 'Q3 Overall'], axis=1)"
   ]
  },
  {
   "cell_type": "code",
   "execution_count": 17,
   "metadata": {},
   "outputs": [
    {
     "data": {
      "text/html": [
       "<div>\n",
       "<style scoped>\n",
       "    .dataframe tbody tr th:only-of-type {\n",
       "        vertical-align: middle;\n",
       "    }\n",
       "\n",
       "    .dataframe tbody tr th {\n",
       "        vertical-align: top;\n",
       "    }\n",
       "\n",
       "    .dataframe thead th {\n",
       "        text-align: right;\n",
       "    }\n",
       "</style>\n",
       "<table border=\"1\" class=\"dataframe\">\n",
       "  <thead>\n",
       "    <tr style=\"text-align: right;\">\n",
       "      <th></th>\n",
       "      <th>Language</th>\n",
       "      <th>P1Q1</th>\n",
       "      <th>P1Q2</th>\n",
       "      <th>P1Q3</th>\n",
       "      <th>P2Q1</th>\n",
       "      <th>P2Q2</th>\n",
       "      <th>P2Q3</th>\n",
       "      <th>P3Q1</th>\n",
       "      <th>P3Q2</th>\n",
       "      <th>P3Q3</th>\n",
       "      <th>P4Q1</th>\n",
       "      <th>P4Q2</th>\n",
       "      <th>P4Q3</th>\n",
       "      <th>Overall</th>\n",
       "    </tr>\n",
       "  </thead>\n",
       "  <tbody>\n",
       "    <tr>\n",
       "      <th>0</th>\n",
       "      <td>English</td>\n",
       "      <td>2.50</td>\n",
       "      <td>2.50</td>\n",
       "      <td>5.00</td>\n",
       "      <td>2.50</td>\n",
       "      <td>2.50</td>\n",
       "      <td>3.75</td>\n",
       "      <td>5.00</td>\n",
       "      <td>3.75</td>\n",
       "      <td>5.0</td>\n",
       "      <td>5.00</td>\n",
       "      <td>5.00</td>\n",
       "      <td>5.00</td>\n",
       "      <td>8</td>\n",
       "    </tr>\n",
       "    <tr>\n",
       "      <th>1</th>\n",
       "      <td>Thai</td>\n",
       "      <td>2.50</td>\n",
       "      <td>3.75</td>\n",
       "      <td>3.75</td>\n",
       "      <td>2.50</td>\n",
       "      <td>0.00</td>\n",
       "      <td>1.25</td>\n",
       "      <td>3.75</td>\n",
       "      <td>2.50</td>\n",
       "      <td>2.5</td>\n",
       "      <td>3.75</td>\n",
       "      <td>0.00</td>\n",
       "      <td>1.25</td>\n",
       "      <td>6</td>\n",
       "    </tr>\n",
       "    <tr>\n",
       "      <th>2</th>\n",
       "      <td>English</td>\n",
       "      <td>3.75</td>\n",
       "      <td>5.00</td>\n",
       "      <td>3.75</td>\n",
       "      <td>2.50</td>\n",
       "      <td>2.50</td>\n",
       "      <td>2.50</td>\n",
       "      <td>3.75</td>\n",
       "      <td>3.75</td>\n",
       "      <td>2.5</td>\n",
       "      <td>3.75</td>\n",
       "      <td>2.50</td>\n",
       "      <td>2.50</td>\n",
       "      <td>8</td>\n",
       "    </tr>\n",
       "    <tr>\n",
       "      <th>3</th>\n",
       "      <td>Thai</td>\n",
       "      <td>1.25</td>\n",
       "      <td>1.25</td>\n",
       "      <td>2.50</td>\n",
       "      <td>3.75</td>\n",
       "      <td>2.50</td>\n",
       "      <td>2.50</td>\n",
       "      <td>3.75</td>\n",
       "      <td>3.75</td>\n",
       "      <td>2.5</td>\n",
       "      <td>2.50</td>\n",
       "      <td>2.50</td>\n",
       "      <td>2.50</td>\n",
       "      <td>6</td>\n",
       "    </tr>\n",
       "    <tr>\n",
       "      <th>4</th>\n",
       "      <td>Thai</td>\n",
       "      <td>2.50</td>\n",
       "      <td>3.75</td>\n",
       "      <td>5.00</td>\n",
       "      <td>5.00</td>\n",
       "      <td>3.75</td>\n",
       "      <td>2.50</td>\n",
       "      <td>5.00</td>\n",
       "      <td>3.75</td>\n",
       "      <td>2.5</td>\n",
       "      <td>5.00</td>\n",
       "      <td>1.25</td>\n",
       "      <td>3.75</td>\n",
       "      <td>7</td>\n",
       "    </tr>\n",
       "  </tbody>\n",
       "</table>\n",
       "</div>"
      ],
      "text/plain": [
       "  Language  P1Q1  P1Q2  P1Q3  P2Q1  P2Q2  P2Q3  P3Q1  P3Q2  P3Q3  P4Q1  P4Q2  \\\n",
       "0  English  2.50  2.50  5.00  2.50  2.50  3.75  5.00  3.75   5.0  5.00  5.00   \n",
       "1     Thai  2.50  3.75  3.75  2.50  0.00  1.25  3.75  2.50   2.5  3.75  0.00   \n",
       "2  English  3.75  5.00  3.75  2.50  2.50  2.50  3.75  3.75   2.5  3.75  2.50   \n",
       "3     Thai  1.25  1.25  2.50  3.75  2.50  2.50  3.75  3.75   2.5  2.50  2.50   \n",
       "4     Thai  2.50  3.75  5.00  5.00  3.75  2.50  5.00  3.75   2.5  5.00  1.25   \n",
       "\n",
       "   P4Q3  Overall  \n",
       "0  5.00        8  \n",
       "1  1.25        6  \n",
       "2  2.50        8  \n",
       "3  2.50        6  \n",
       "4  3.75        7  "
      ]
     },
     "execution_count": 17,
     "metadata": {},
     "output_type": "execute_result"
    }
   ],
   "source": [
    "df.head()"
   ]
  },
  {
   "cell_type": "code",
   "execution_count": 18,
   "metadata": {},
   "outputs": [],
   "source": [
    "#Get a dummy variable for language\n",
    "df = pd.concat([df,pd.get_dummies(df['Language'], drop_first=True)], axis=1)\n",
    "df = df.drop('Language', axis=1)"
   ]
  },
  {
   "cell_type": "code",
   "execution_count": 19,
   "metadata": {},
   "outputs": [
    {
     "data": {
      "text/html": [
       "<div>\n",
       "<style scoped>\n",
       "    .dataframe tbody tr th:only-of-type {\n",
       "        vertical-align: middle;\n",
       "    }\n",
       "\n",
       "    .dataframe tbody tr th {\n",
       "        vertical-align: top;\n",
       "    }\n",
       "\n",
       "    .dataframe thead th {\n",
       "        text-align: right;\n",
       "    }\n",
       "</style>\n",
       "<table border=\"1\" class=\"dataframe\">\n",
       "  <thead>\n",
       "    <tr style=\"text-align: right;\">\n",
       "      <th></th>\n",
       "      <th>P1Q1</th>\n",
       "      <th>P1Q2</th>\n",
       "      <th>P1Q3</th>\n",
       "      <th>P2Q1</th>\n",
       "      <th>P2Q2</th>\n",
       "      <th>P2Q3</th>\n",
       "      <th>P3Q1</th>\n",
       "      <th>P3Q2</th>\n",
       "      <th>P3Q3</th>\n",
       "      <th>P4Q1</th>\n",
       "      <th>P4Q2</th>\n",
       "      <th>P4Q3</th>\n",
       "      <th>Overall</th>\n",
       "      <th>Thai</th>\n",
       "    </tr>\n",
       "  </thead>\n",
       "  <tbody>\n",
       "    <tr>\n",
       "      <th>0</th>\n",
       "      <td>2.50</td>\n",
       "      <td>2.50</td>\n",
       "      <td>5.00</td>\n",
       "      <td>2.50</td>\n",
       "      <td>2.50</td>\n",
       "      <td>3.75</td>\n",
       "      <td>5.00</td>\n",
       "      <td>3.75</td>\n",
       "      <td>5.0</td>\n",
       "      <td>5.00</td>\n",
       "      <td>5.00</td>\n",
       "      <td>5.00</td>\n",
       "      <td>8</td>\n",
       "      <td>0</td>\n",
       "    </tr>\n",
       "    <tr>\n",
       "      <th>1</th>\n",
       "      <td>2.50</td>\n",
       "      <td>3.75</td>\n",
       "      <td>3.75</td>\n",
       "      <td>2.50</td>\n",
       "      <td>0.00</td>\n",
       "      <td>1.25</td>\n",
       "      <td>3.75</td>\n",
       "      <td>2.50</td>\n",
       "      <td>2.5</td>\n",
       "      <td>3.75</td>\n",
       "      <td>0.00</td>\n",
       "      <td>1.25</td>\n",
       "      <td>6</td>\n",
       "      <td>1</td>\n",
       "    </tr>\n",
       "    <tr>\n",
       "      <th>2</th>\n",
       "      <td>3.75</td>\n",
       "      <td>5.00</td>\n",
       "      <td>3.75</td>\n",
       "      <td>2.50</td>\n",
       "      <td>2.50</td>\n",
       "      <td>2.50</td>\n",
       "      <td>3.75</td>\n",
       "      <td>3.75</td>\n",
       "      <td>2.5</td>\n",
       "      <td>3.75</td>\n",
       "      <td>2.50</td>\n",
       "      <td>2.50</td>\n",
       "      <td>8</td>\n",
       "      <td>0</td>\n",
       "    </tr>\n",
       "    <tr>\n",
       "      <th>3</th>\n",
       "      <td>1.25</td>\n",
       "      <td>1.25</td>\n",
       "      <td>2.50</td>\n",
       "      <td>3.75</td>\n",
       "      <td>2.50</td>\n",
       "      <td>2.50</td>\n",
       "      <td>3.75</td>\n",
       "      <td>3.75</td>\n",
       "      <td>2.5</td>\n",
       "      <td>2.50</td>\n",
       "      <td>2.50</td>\n",
       "      <td>2.50</td>\n",
       "      <td>6</td>\n",
       "      <td>1</td>\n",
       "    </tr>\n",
       "    <tr>\n",
       "      <th>4</th>\n",
       "      <td>2.50</td>\n",
       "      <td>3.75</td>\n",
       "      <td>5.00</td>\n",
       "      <td>5.00</td>\n",
       "      <td>3.75</td>\n",
       "      <td>2.50</td>\n",
       "      <td>5.00</td>\n",
       "      <td>3.75</td>\n",
       "      <td>2.5</td>\n",
       "      <td>5.00</td>\n",
       "      <td>1.25</td>\n",
       "      <td>3.75</td>\n",
       "      <td>7</td>\n",
       "      <td>1</td>\n",
       "    </tr>\n",
       "  </tbody>\n",
       "</table>\n",
       "</div>"
      ],
      "text/plain": [
       "   P1Q1  P1Q2  P1Q3  P2Q1  P2Q2  P2Q3  P3Q1  P3Q2  P3Q3  P4Q1  P4Q2  P4Q3  \\\n",
       "0  2.50  2.50  5.00  2.50  2.50  3.75  5.00  3.75   5.0  5.00  5.00  5.00   \n",
       "1  2.50  3.75  3.75  2.50  0.00  1.25  3.75  2.50   2.5  3.75  0.00  1.25   \n",
       "2  3.75  5.00  3.75  2.50  2.50  2.50  3.75  3.75   2.5  3.75  2.50  2.50   \n",
       "3  1.25  1.25  2.50  3.75  2.50  2.50  3.75  3.75   2.5  2.50  2.50  2.50   \n",
       "4  2.50  3.75  5.00  5.00  3.75  2.50  5.00  3.75   2.5  5.00  1.25  3.75   \n",
       "\n",
       "   Overall  Thai  \n",
       "0        8     0  \n",
       "1        6     1  \n",
       "2        8     0  \n",
       "3        6     1  \n",
       "4        7     1  "
      ]
     },
     "execution_count": 19,
     "metadata": {},
     "output_type": "execute_result"
    }
   ],
   "source": [
    "df.head()"
   ]
  },
  {
   "cell_type": "markdown",
   "metadata": {},
   "source": [
    "**Machine Learning**"
   ]
  },
  {
   "cell_type": "code",
   "execution_count": 20,
   "metadata": {},
   "outputs": [],
   "source": [
    "X = df.drop('Overall', axis=1)\n",
    "y = df['Overall']"
   ]
  },
  {
   "cell_type": "code",
   "execution_count": 21,
   "metadata": {},
   "outputs": [],
   "source": [
    "from sklearn.model_selection import train_test_split"
   ]
  },
  {
   "cell_type": "code",
   "execution_count": 22,
   "metadata": {},
   "outputs": [],
   "source": [
    "X_train, X_test, y_train, y_test = train_test_split(X, y, test_size=0.2, random_state=123)"
   ]
  },
  {
   "cell_type": "code",
   "execution_count": 23,
   "metadata": {},
   "outputs": [],
   "source": [
    "from sklearn.preprocessing import StandardScaler"
   ]
  },
  {
   "cell_type": "code",
   "execution_count": 24,
   "metadata": {},
   "outputs": [],
   "source": [
    "std_scaler = StandardScaler().fit(X_train)\n",
    "X_train = std_scaler.transform(X_train)\n",
    "X_test = std_scaler.transform(X_test)"
   ]
  },
  {
   "cell_type": "code",
   "execution_count": 25,
   "metadata": {},
   "outputs": [],
   "source": [
    "from sklearn.linear_model import LinearRegression"
   ]
  },
  {
   "cell_type": "code",
   "execution_count": 26,
   "metadata": {},
   "outputs": [],
   "source": [
    "lm = LinearRegression().fit(X_train, y_train)"
   ]
  },
  {
   "cell_type": "code",
   "execution_count": 27,
   "metadata": {},
   "outputs": [],
   "source": [
    "prediction = lm.predict(X_test)"
   ]
  },
  {
   "cell_type": "code",
   "execution_count": 28,
   "metadata": {},
   "outputs": [],
   "source": [
    "from sklearn.metrics import mean_absolute_error, mean_squared_error, explained_variance_score"
   ]
  },
  {
   "cell_type": "code",
   "execution_count": 29,
   "metadata": {},
   "outputs": [
    {
     "data": {
      "text/plain": [
       "1.2069921650109123"
      ]
     },
     "execution_count": 29,
     "metadata": {},
     "output_type": "execute_result"
    }
   ],
   "source": [
    "mean_absolute_error(y_test, prediction)"
   ]
  },
  {
   "cell_type": "code",
   "execution_count": 30,
   "metadata": {},
   "outputs": [
    {
     "data": {
      "text/plain": [
       "1.7559126165997387"
      ]
     },
     "execution_count": 30,
     "metadata": {},
     "output_type": "execute_result"
    }
   ],
   "source": [
    "mean_squared_error(y_test, prediction)**0.5"
   ]
  },
  {
   "cell_type": "code",
   "execution_count": 31,
   "metadata": {},
   "outputs": [
    {
     "data": {
      "text/plain": [
       "-0.05998606323139799"
      ]
     },
     "execution_count": 31,
     "metadata": {},
     "output_type": "execute_result"
    }
   ],
   "source": [
    "explained_variance_score(y_test, prediction)"
   ]
  },
  {
   "cell_type": "markdown",
   "metadata": {},
   "source": [
    "The explained variance is actually negative, meaning that our model is unfit to be used"
   ]
  },
  {
   "cell_type": "markdown",
   "metadata": {},
   "source": [
    "**Deep Learning**"
   ]
  },
  {
   "cell_type": "code",
   "execution_count": 32,
   "metadata": {},
   "outputs": [],
   "source": [
    "X = df.drop('Overall', axis=1).values\n",
    "y = df['Overall'].values\n",
    "X_train, X_test, y_train, y_test = train_test_split(X, y, test_size=0.2, random_state=123)"
   ]
  },
  {
   "cell_type": "code",
   "execution_count": 33,
   "metadata": {},
   "outputs": [],
   "source": [
    "from sklearn.preprocessing import MinMaxScaler"
   ]
  },
  {
   "cell_type": "code",
   "execution_count": 34,
   "metadata": {},
   "outputs": [],
   "source": [
    "min_max_scaler = MinMaxScaler().fit(X_train)\n",
    "X_train = min_max_scaler.transform(X_train)\n",
    "X_test = min_max_scaler.transform(X_test)"
   ]
  },
  {
   "cell_type": "code",
   "execution_count": 35,
   "metadata": {},
   "outputs": [
    {
     "name": "stderr",
     "output_type": "stream",
     "text": [
      "C:\\Users\\Poom\\Anaconda3\\envs\\ex\\lib\\site-packages\\tensorflow\\python\\framework\\dtypes.py:526: FutureWarning: Passing (type, 1) or '1type' as a synonym of type is deprecated; in a future version of numpy, it will be understood as (type, (1,)) / '(1,)type'.\n",
      "  _np_qint8 = np.dtype([(\"qint8\", np.int8, 1)])\n",
      "C:\\Users\\Poom\\Anaconda3\\envs\\ex\\lib\\site-packages\\tensorflow\\python\\framework\\dtypes.py:527: FutureWarning: Passing (type, 1) or '1type' as a synonym of type is deprecated; in a future version of numpy, it will be understood as (type, (1,)) / '(1,)type'.\n",
      "  _np_quint8 = np.dtype([(\"quint8\", np.uint8, 1)])\n",
      "C:\\Users\\Poom\\Anaconda3\\envs\\ex\\lib\\site-packages\\tensorflow\\python\\framework\\dtypes.py:528: FutureWarning: Passing (type, 1) or '1type' as a synonym of type is deprecated; in a future version of numpy, it will be understood as (type, (1,)) / '(1,)type'.\n",
      "  _np_qint16 = np.dtype([(\"qint16\", np.int16, 1)])\n",
      "C:\\Users\\Poom\\Anaconda3\\envs\\ex\\lib\\site-packages\\tensorflow\\python\\framework\\dtypes.py:529: FutureWarning: Passing (type, 1) or '1type' as a synonym of type is deprecated; in a future version of numpy, it will be understood as (type, (1,)) / '(1,)type'.\n",
      "  _np_quint16 = np.dtype([(\"quint16\", np.uint16, 1)])\n",
      "C:\\Users\\Poom\\Anaconda3\\envs\\ex\\lib\\site-packages\\tensorflow\\python\\framework\\dtypes.py:530: FutureWarning: Passing (type, 1) or '1type' as a synonym of type is deprecated; in a future version of numpy, it will be understood as (type, (1,)) / '(1,)type'.\n",
      "  _np_qint32 = np.dtype([(\"qint32\", np.int32, 1)])\n",
      "C:\\Users\\Poom\\Anaconda3\\envs\\ex\\lib\\site-packages\\tensorflow\\python\\framework\\dtypes.py:535: FutureWarning: Passing (type, 1) or '1type' as a synonym of type is deprecated; in a future version of numpy, it will be understood as (type, (1,)) / '(1,)type'.\n",
      "  np_resource = np.dtype([(\"resource\", np.ubyte, 1)])\n"
     ]
    }
   ],
   "source": [
    "from tensorflow.keras.models import Sequential\n",
    "from tensorflow.keras.layers import Dense, Dropout"
   ]
  },
  {
   "cell_type": "code",
   "execution_count": 36,
   "metadata": {},
   "outputs": [
    {
     "data": {
      "text/plain": [
       "(51, 13)"
      ]
     },
     "execution_count": 36,
     "metadata": {},
     "output_type": "execute_result"
    }
   ],
   "source": [
    "X_train.shape"
   ]
  },
  {
   "cell_type": "code",
   "execution_count": 37,
   "metadata": {},
   "outputs": [
    {
     "name": "stdout",
     "output_type": "stream",
     "text": [
      "WARNING:tensorflow:From C:\\Users\\Poom\\Anaconda3\\envs\\ex\\lib\\site-packages\\tensorflow\\python\\ops\\resource_variable_ops.py:435: colocate_with (from tensorflow.python.framework.ops) is deprecated and will be removed in a future version.\n",
      "Instructions for updating:\n",
      "Colocations handled automatically by placer.\n"
     ]
    }
   ],
   "source": [
    "model = Sequential()\n",
    "\n",
    "model.add(Dense(13, activation='relu'))\n",
    "model.add(Dropout(0.2))\n",
    "model.add(Dense(6, activation='relu'))\n",
    "model.add(Dropout(0.2))\n",
    "model.add(Dense(3, activation='relu'))\n",
    "model.add(Dropout(0.2))\n",
    "model.add(Dense(1))\n",
    "\n",
    "model.compile(loss='mse', optimizer='adam')"
   ]
  },
  {
   "cell_type": "code",
   "execution_count": 38,
   "metadata": {},
   "outputs": [],
   "source": [
    "from tensorflow.keras.callbacks import EarlyStopping"
   ]
  },
  {
   "cell_type": "code",
   "execution_count": 39,
   "metadata": {},
   "outputs": [],
   "source": [
    "early_stop = EarlyStopping(monitor='val_loss', mode='min', verbose=1, patience=25)"
   ]
  },
  {
   "cell_type": "code",
   "execution_count": 40,
   "metadata": {},
   "outputs": [
    {
     "name": "stdout",
     "output_type": "stream",
     "text": [
      "WARNING:tensorflow:From C:\\Users\\Poom\\Anaconda3\\envs\\ex\\lib\\site-packages\\tensorflow\\python\\keras\\layers\\core.py:143: calling dropout (from tensorflow.python.ops.nn_ops) with keep_prob is deprecated and will be removed in a future version.\n",
      "Instructions for updating:\n",
      "Please use `rate` instead of `keep_prob`. Rate should be set to `rate = 1 - keep_prob`.\n",
      "WARNING:tensorflow:From C:\\Users\\Poom\\Anaconda3\\envs\\ex\\lib\\site-packages\\tensorflow\\python\\keras\\utils\\losses_utils.py:170: to_float (from tensorflow.python.ops.math_ops) is deprecated and will be removed in a future version.\n",
      "Instructions for updating:\n",
      "Use tf.cast instead.\n",
      "Train on 51 samples, validate on 13 samples\n",
      "WARNING:tensorflow:From C:\\Users\\Poom\\Anaconda3\\envs\\ex\\lib\\site-packages\\tensorflow\\python\\ops\\math_ops.py:3066: to_int32 (from tensorflow.python.ops.math_ops) is deprecated and will be removed in a future version.\n",
      "Instructions for updating:\n",
      "Use tf.cast instead.\n",
      "Epoch 1/1000\n",
      "51/51 [==============================] - 0s 10ms/sample - loss: 55.6923 - val_loss: 59.5195\n",
      "Epoch 2/1000\n",
      "51/51 [==============================] - 0s 176us/sample - loss: 54.3829 - val_loss: 58.9180\n",
      "Epoch 3/1000\n",
      "51/51 [==============================] - 0s 157us/sample - loss: 54.0094 - val_loss: 58.3001\n",
      "Epoch 4/1000\n",
      "51/51 [==============================] - 0s 196us/sample - loss: 55.1701 - val_loss: 57.6921\n",
      "Epoch 5/1000\n",
      "51/51 [==============================] - 0s 138us/sample - loss: 53.5046 - val_loss: 57.0774\n",
      "Epoch 6/1000\n",
      "51/51 [==============================] - 0s 215us/sample - loss: 53.9614 - val_loss: 56.4760\n",
      "Epoch 7/1000\n",
      "51/51 [==============================] - 0s 137us/sample - loss: 52.8900 - val_loss: 55.8883\n",
      "Epoch 8/1000\n",
      "51/51 [==============================] - 0s 156us/sample - loss: 52.7828 - val_loss: 55.2318\n",
      "Epoch 9/1000\n",
      "51/51 [==============================] - 0s 176us/sample - loss: 49.3586 - val_loss: 54.4729\n",
      "Epoch 10/1000\n",
      "51/51 [==============================] - 0s 156us/sample - loss: 50.6629 - val_loss: 53.6538\n",
      "Epoch 11/1000\n",
      "51/51 [==============================] - ETA: 0s - loss: 55.07 - 0s 216us/sample - loss: 49.8960 - val_loss: 52.7876\n",
      "Epoch 12/1000\n",
      "51/51 [==============================] - 0s 176us/sample - loss: 47.7483 - val_loss: 51.8962\n",
      "Epoch 13/1000\n",
      "51/51 [==============================] - 0s 117us/sample - loss: 47.3392 - val_loss: 50.9432\n",
      "Epoch 14/1000\n",
      "51/51 [==============================] - 0s 215us/sample - loss: 46.6474 - val_loss: 49.8900\n",
      "Epoch 15/1000\n",
      "51/51 [==============================] - 0s 176us/sample - loss: 44.5599 - val_loss: 48.7265\n",
      "Epoch 16/1000\n",
      "51/51 [==============================] - 0s 195us/sample - loss: 46.2850 - val_loss: 47.5233\n",
      "Epoch 17/1000\n",
      "51/51 [==============================] - 0s 215us/sample - loss: 43.2956 - val_loss: 46.2169\n",
      "Epoch 18/1000\n",
      "51/51 [==============================] - 0s 176us/sample - loss: 42.8228 - val_loss: 44.7755\n",
      "Epoch 19/1000\n",
      "51/51 [==============================] - 0s 176us/sample - loss: 41.6358 - val_loss: 43.2076\n",
      "Epoch 20/1000\n",
      "51/51 [==============================] - 0s 254us/sample - loss: 42.3033 - val_loss: 41.5977\n",
      "Epoch 21/1000\n",
      "51/51 [==============================] - 0s 196us/sample - loss: 36.8332 - val_loss: 39.8567\n",
      "Epoch 22/1000\n",
      "51/51 [==============================] - 0s 176us/sample - loss: 34.5371 - val_loss: 37.9935\n",
      "Epoch 23/1000\n",
      "51/51 [==============================] - 0s 195us/sample - loss: 34.2764 - val_loss: 35.9440\n",
      "Epoch 24/1000\n",
      "51/51 [==============================] - 0s 196us/sample - loss: 34.4873 - val_loss: 33.8100\n",
      "Epoch 25/1000\n",
      "51/51 [==============================] - ETA: 0s - loss: 32.06 - 0s 156us/sample - loss: 31.9947 - val_loss: 31.5459\n",
      "Epoch 26/1000\n",
      "51/51 [==============================] - 0s 196us/sample - loss: 30.6450 - val_loss: 29.1991\n",
      "Epoch 27/1000\n",
      "51/51 [==============================] - 0s 254us/sample - loss: 28.2790 - val_loss: 26.8277\n",
      "Epoch 28/1000\n",
      "51/51 [==============================] - 0s 137us/sample - loss: 29.8260 - val_loss: 24.5021\n",
      "Epoch 29/1000\n",
      "51/51 [==============================] - 0s 176us/sample - loss: 35.7998 - val_loss: 22.4451\n",
      "Epoch 30/1000\n",
      "51/51 [==============================] - 0s 215us/sample - loss: 27.0906 - val_loss: 20.5997\n",
      "Epoch 31/1000\n",
      "51/51 [==============================] - 0s 196us/sample - loss: 21.9174 - val_loss: 18.6997\n",
      "Epoch 32/1000\n",
      "51/51 [==============================] - 0s 156us/sample - loss: 16.8858 - val_loss: 16.6715\n",
      "Epoch 33/1000\n",
      "51/51 [==============================] - 0s 215us/sample - loss: 17.5773 - val_loss: 14.6310\n",
      "Epoch 34/1000\n",
      "51/51 [==============================] - 0s 156us/sample - loss: 26.7622 - val_loss: 12.7345\n",
      "Epoch 35/1000\n",
      "51/51 [==============================] - 0s 156us/sample - loss: 21.1202 - val_loss: 11.0521\n",
      "Epoch 36/1000\n",
      "51/51 [==============================] - 0s 196us/sample - loss: 8.9892 - val_loss: 9.5633\n",
      "Epoch 37/1000\n",
      "51/51 [==============================] - 0s 137us/sample - loss: 15.9466 - val_loss: 8.5080\n",
      "Epoch 38/1000\n",
      "51/51 [==============================] - 0s 176us/sample - loss: 16.3268 - val_loss: 7.5431\n",
      "Epoch 39/1000\n",
      "51/51 [==============================] - 0s 215us/sample - loss: 18.4094 - val_loss: 6.8290\n",
      "Epoch 40/1000\n",
      "51/51 [==============================] - 0s 196us/sample - loss: 20.9597 - val_loss: 6.5365\n",
      "Epoch 41/1000\n",
      "51/51 [==============================] - 0s 195us/sample - loss: 20.9549 - val_loss: 6.2466\n",
      "Epoch 42/1000\n",
      "51/51 [==============================] - 0s 254us/sample - loss: 19.4707 - val_loss: 6.3175\n",
      "Epoch 43/1000\n",
      "51/51 [==============================] - 0s 254us/sample - loss: 13.4414 - val_loss: 6.2425\n",
      "Epoch 44/1000\n",
      "51/51 [==============================] - 0s 274us/sample - loss: 19.6545 - val_loss: 6.0760\n",
      "Epoch 45/1000\n",
      "51/51 [==============================] - 0s 176us/sample - loss: 25.6230 - val_loss: 5.9264\n",
      "Epoch 46/1000\n",
      "51/51 [==============================] - 0s 235us/sample - loss: 13.4632 - val_loss: 5.9970\n",
      "Epoch 47/1000\n",
      "51/51 [==============================] - 0s 215us/sample - loss: 15.1731 - val_loss: 6.0206\n",
      "Epoch 48/1000\n",
      "51/51 [==============================] - 0s 235us/sample - loss: 15.1610 - val_loss: 6.0792\n",
      "Epoch 49/1000\n",
      "51/51 [==============================] - 0s 137us/sample - loss: 16.1168 - val_loss: 6.0293\n",
      "Epoch 50/1000\n",
      "51/51 [==============================] - 0s 176us/sample - loss: 13.8476 - val_loss: 6.0054\n",
      "Epoch 51/1000\n",
      "51/51 [==============================] - 0s 177us/sample - loss: 16.7643 - val_loss: 6.1148\n",
      "Epoch 52/1000\n",
      "51/51 [==============================] - 0s 156us/sample - loss: 18.9210 - val_loss: 6.3188\n",
      "Epoch 53/1000\n",
      "51/51 [==============================] - 0s 391us/sample - loss: 19.0446 - val_loss: 6.2974\n",
      "Epoch 54/1000\n",
      "51/51 [==============================] - 0s 176us/sample - loss: 9.9220 - val_loss: 6.3384\n",
      "Epoch 55/1000\n",
      "51/51 [==============================] - ETA: 0s - loss: 24.28 - 0s 156us/sample - loss: 22.5093 - val_loss: 6.4493\n",
      "Epoch 56/1000\n",
      "51/51 [==============================] - 0s 156us/sample - loss: 23.5109 - val_loss: 6.6186\n",
      "Epoch 57/1000\n",
      "51/51 [==============================] - 0s 156us/sample - loss: 14.4664 - val_loss: 6.8009\n",
      "Epoch 58/1000\n",
      "51/51 [==============================] - 0s 215us/sample - loss: 21.8731 - val_loss: 7.1746\n",
      "Epoch 59/1000\n",
      "51/51 [==============================] - 0s 176us/sample - loss: 15.7631 - val_loss: 7.6326\n",
      "Epoch 60/1000\n",
      "51/51 [==============================] - 0s 117us/sample - loss: 18.0612 - val_loss: 8.0623\n",
      "Epoch 61/1000\n",
      "51/51 [==============================] - 0s 176us/sample - loss: 23.7148 - val_loss: 8.5715\n",
      "Epoch 62/1000\n",
      "51/51 [==============================] - 0s 156us/sample - loss: 20.7295 - val_loss: 8.9312\n",
      "Epoch 63/1000\n",
      "51/51 [==============================] - 0s 156us/sample - loss: 20.3909 - val_loss: 9.0329\n",
      "Epoch 64/1000\n",
      "51/51 [==============================] - 0s 235us/sample - loss: 20.1047 - val_loss: 8.9222\n",
      "Epoch 65/1000\n",
      "51/51 [==============================] - 0s 176us/sample - loss: 17.1919 - val_loss: 8.6409\n",
      "Epoch 66/1000\n",
      "51/51 [==============================] - 0s 156us/sample - loss: 20.4543 - val_loss: 8.2044\n",
      "Epoch 67/1000\n",
      "51/51 [==============================] - 0s 176us/sample - loss: 19.6637 - val_loss: 7.8806\n",
      "Epoch 68/1000\n"
     ]
    },
    {
     "name": "stdout",
     "output_type": "stream",
     "text": [
      "51/51 [==============================] - 0s 117us/sample - loss: 15.7099 - val_loss: 7.6068\n",
      "Epoch 69/1000\n",
      "51/51 [==============================] - 0s 137us/sample - loss: 16.7638 - val_loss: 7.2706\n",
      "Epoch 70/1000\n",
      "51/51 [==============================] - 0s 117us/sample - loss: 21.1134 - val_loss: 6.9699\n",
      "Epoch 00070: early stopping\n"
     ]
    },
    {
     "data": {
      "text/plain": [
       "<tensorflow.python.keras.callbacks.History at 0x19c8a860e88>"
      ]
     },
     "execution_count": 40,
     "metadata": {},
     "output_type": "execute_result"
    }
   ],
   "source": [
    "model.fit(x=X_train, y=y_train, batch_size=16, callbacks=[early_stop], validation_data=(X_test, y_test), epochs=1000)"
   ]
  },
  {
   "cell_type": "code",
   "execution_count": 41,
   "metadata": {},
   "outputs": [
    {
     "data": {
      "text/plain": [
       "<matplotlib.axes._subplots.AxesSubplot at 0x19c8afe8488>"
      ]
     },
     "execution_count": 41,
     "metadata": {},
     "output_type": "execute_result"
    },
    {
     "data": {
      "image/png": "[encoded data removed]",
      "text/plain": [
       "<Figure size 432x288 with 1 Axes>"
      ]
     },
     "metadata": {},
     "output_type": "display_data"
    }
   ],
   "source": [
    "pd.DataFrame(model.history.history).plot()"
   ]
  },
  {
   "cell_type": "code",
   "execution_count": 42,
   "metadata": {},
   "outputs": [],
   "source": [
    "prediction = model.predict(X_test)"
   ]
  },
  {
   "cell_type": "code",
   "execution_count": 43,
   "metadata": {},
   "outputs": [
    {
     "data": {
      "text/plain": [
       "2.427505273085374"
      ]
     },
     "execution_count": 43,
     "metadata": {},
     "output_type": "execute_result"
    }
   ],
   "source": [
    "mean_absolute_error(y_test, prediction)"
   ]
  },
  {
   "cell_type": "code",
   "execution_count": 44,
   "metadata": {},
   "outputs": [
    {
     "data": {
      "text/plain": [
       "2.640055419086336"
      ]
     },
     "execution_count": 44,
     "metadata": {},
     "output_type": "execute_result"
    }
   ],
   "source": [
    "mean_squared_error(y_test, prediction)**0.5"
   ]
  },
  {
   "cell_type": "code",
   "execution_count": 45,
   "metadata": {},
   "outputs": [
    {
     "data": {
      "text/plain": [
       "0.3001064344528046"
      ]
     },
     "execution_count": 45,
     "metadata": {},
     "output_type": "execute_result"
    }
   ],
   "source": [
    "explained_variance_score(y_test, prediction)"
   ]
  },
  {
   "cell_type": "markdown",
   "metadata": {},
   "source": [
    "Although the error is larger with deep learning, the model has a better explained variance score"
   ]
  }
 ],
 "metadata": {
  "kernelspec": {
   "display_name": "Python [conda env:ex] *",
   "language": "python",
   "name": "conda-env-ex-py"
  },
  "language_info": {
   "codemirror_mode": {
    "name": "ipython",
    "version": 3
   },
   "file_extension": ".py",
   "mimetype": "text/x-python",
   "name": "python",
   "nbconvert_exporter": "python",
   "pygments_lexer": "ipython3",
   "version": "3.7.6"
  }
 },
 "nbformat": 4,
 "nbformat_minor": 4
}
