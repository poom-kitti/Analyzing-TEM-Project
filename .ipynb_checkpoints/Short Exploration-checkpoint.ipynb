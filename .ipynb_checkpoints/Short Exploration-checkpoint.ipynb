{
 "cells": [
  {
   "cell_type": "code",
   "execution_count": 1,
   "metadata": {},
   "outputs": [],
   "source": [
    "import numpy as np\n",
    "import pandas as pd\n",
    "import seaborn as sns\n",
    "import matplotlib.pyplot as plt\n",
    "\n",
    "%matplotlib inline"
   ]
  },
  {
   "cell_type": "code",
   "execution_count": 2,
   "metadata": {},
   "outputs": [],
   "source": [
    "sns.set_style('whitegrid')"
   ]
  },
  {
   "cell_type": "code",
   "execution_count": 3,
   "metadata": {},
   "outputs": [],
   "source": [
    "df = pd.read_csv('tem_survey_clean.csv')"
   ]
  },
  {
   "cell_type": "code",
   "execution_count": 4,
   "metadata": {},
   "outputs": [
    {
     "data": {
      "text/html": [
       "<div>\n",
       "<style scoped>\n",
       "    .dataframe tbody tr th:only-of-type {\n",
       "        vertical-align: middle;\n",
       "    }\n",
       "\n",
       "    .dataframe tbody tr th {\n",
       "        vertical-align: top;\n",
       "    }\n",
       "\n",
       "    .dataframe thead th {\n",
       "        text-align: right;\n",
       "    }\n",
       "</style>\n",
       "<table border=\"1\" class=\"dataframe\">\n",
       "  <thead>\n",
       "    <tr style=\"text-align: right;\">\n",
       "      <th></th>\n",
       "      <th>Timestamp</th>\n",
       "      <th>Language</th>\n",
       "      <th>P1Q1</th>\n",
       "      <th>P1Q2</th>\n",
       "      <th>P1Q3</th>\n",
       "      <th>P1 Overall</th>\n",
       "      <th>P2Q1</th>\n",
       "      <th>P2Q2</th>\n",
       "      <th>P2Q3</th>\n",
       "      <th>P2 Overall</th>\n",
       "      <th>P3Q1</th>\n",
       "      <th>P3Q2</th>\n",
       "      <th>P3Q3</th>\n",
       "      <th>P3 Overall</th>\n",
       "      <th>P4Q1</th>\n",
       "      <th>P4Q2</th>\n",
       "      <th>P4Q3</th>\n",
       "      <th>P4 Overall</th>\n",
       "      <th>Overall</th>\n",
       "      <th>Comment</th>\n",
       "    </tr>\n",
       "  </thead>\n",
       "  <tbody>\n",
       "    <tr>\n",
       "      <th>0</th>\n",
       "      <td>2020-03-23 17:57:29</td>\n",
       "      <td>English</td>\n",
       "      <td>2.50</td>\n",
       "      <td>2.50</td>\n",
       "      <td>5.00</td>\n",
       "      <td>3.333333</td>\n",
       "      <td>2.50</td>\n",
       "      <td>2.50</td>\n",
       "      <td>3.75</td>\n",
       "      <td>2.916667</td>\n",
       "      <td>5.00</td>\n",
       "      <td>3.75</td>\n",
       "      <td>5.0</td>\n",
       "      <td>4.583333</td>\n",
       "      <td>5.00</td>\n",
       "      <td>5.00</td>\n",
       "      <td>5.00</td>\n",
       "      <td>5.000000</td>\n",
       "      <td>8</td>\n",
       "      <td>NaN</td>\n",
       "    </tr>\n",
       "    <tr>\n",
       "      <th>1</th>\n",
       "      <td>2020-03-27 09:52:05</td>\n",
       "      <td>Thai</td>\n",
       "      <td>2.50</td>\n",
       "      <td>3.75</td>\n",
       "      <td>3.75</td>\n",
       "      <td>3.333333</td>\n",
       "      <td>2.50</td>\n",
       "      <td>0.00</td>\n",
       "      <td>1.25</td>\n",
       "      <td>1.250000</td>\n",
       "      <td>3.75</td>\n",
       "      <td>2.50</td>\n",
       "      <td>2.5</td>\n",
       "      <td>2.916667</td>\n",
       "      <td>3.75</td>\n",
       "      <td>0.00</td>\n",
       "      <td>1.25</td>\n",
       "      <td>1.666667</td>\n",
       "      <td>6</td>\n",
       "      <td>ควรมีระบบเลือกวิชาได้แบบเป็น tab แทนที่ต้องกลั...</td>\n",
       "    </tr>\n",
       "    <tr>\n",
       "      <th>2</th>\n",
       "      <td>2020-03-27 10:38:26</td>\n",
       "      <td>English</td>\n",
       "      <td>3.75</td>\n",
       "      <td>5.00</td>\n",
       "      <td>3.75</td>\n",
       "      <td>4.166667</td>\n",
       "      <td>2.50</td>\n",
       "      <td>2.50</td>\n",
       "      <td>2.50</td>\n",
       "      <td>2.500000</td>\n",
       "      <td>3.75</td>\n",
       "      <td>3.75</td>\n",
       "      <td>2.5</td>\n",
       "      <td>3.333333</td>\n",
       "      <td>3.75</td>\n",
       "      <td>2.50</td>\n",
       "      <td>2.50</td>\n",
       "      <td>2.916667</td>\n",
       "      <td>8</td>\n",
       "      <td>NaN</td>\n",
       "    </tr>\n",
       "    <tr>\n",
       "      <th>3</th>\n",
       "      <td>2020-03-27 10:42:39</td>\n",
       "      <td>Thai</td>\n",
       "      <td>1.25</td>\n",
       "      <td>1.25</td>\n",
       "      <td>2.50</td>\n",
       "      <td>1.666667</td>\n",
       "      <td>3.75</td>\n",
       "      <td>2.50</td>\n",
       "      <td>2.50</td>\n",
       "      <td>2.916667</td>\n",
       "      <td>3.75</td>\n",
       "      <td>3.75</td>\n",
       "      <td>2.5</td>\n",
       "      <td>3.333333</td>\n",
       "      <td>2.50</td>\n",
       "      <td>2.50</td>\n",
       "      <td>2.50</td>\n",
       "      <td>2.500000</td>\n",
       "      <td>6</td>\n",
       "      <td>NaN</td>\n",
       "    </tr>\n",
       "    <tr>\n",
       "      <th>4</th>\n",
       "      <td>2020-03-27 10:45:40</td>\n",
       "      <td>Thai</td>\n",
       "      <td>2.50</td>\n",
       "      <td>3.75</td>\n",
       "      <td>5.00</td>\n",
       "      <td>3.750000</td>\n",
       "      <td>5.00</td>\n",
       "      <td>3.75</td>\n",
       "      <td>2.50</td>\n",
       "      <td>3.750000</td>\n",
       "      <td>5.00</td>\n",
       "      <td>3.75</td>\n",
       "      <td>2.5</td>\n",
       "      <td>3.750000</td>\n",
       "      <td>5.00</td>\n",
       "      <td>1.25</td>\n",
       "      <td>3.75</td>\n",
       "      <td>3.333333</td>\n",
       "      <td>7</td>\n",
       "      <td>ตรงหน้าแรกสุดที่จะมีหน้าต่างฟ้าๆเตือนว่ามีงานอ...</td>\n",
       "    </tr>\n",
       "  </tbody>\n",
       "</table>\n",
       "</div>"
      ],
      "text/plain": [
       "             Timestamp Language  P1Q1  P1Q2  P1Q3  P1 Overall  P2Q1  P2Q2  \\\n",
       "0  2020-03-23 17:57:29  English  2.50  2.50  5.00    3.333333  2.50  2.50   \n",
       "1  2020-03-27 09:52:05     Thai  2.50  3.75  3.75    3.333333  2.50  0.00   \n",
       "2  2020-03-27 10:38:26  English  3.75  5.00  3.75    4.166667  2.50  2.50   \n",
       "3  2020-03-27 10:42:39     Thai  1.25  1.25  2.50    1.666667  3.75  2.50   \n",
       "4  2020-03-27 10:45:40     Thai  2.50  3.75  5.00    3.750000  5.00  3.75   \n",
       "\n",
       "   P2Q3  P2 Overall  P3Q1  P3Q2  P3Q3  P3 Overall  P4Q1  P4Q2  P4Q3  \\\n",
       "0  3.75    2.916667  5.00  3.75   5.0    4.583333  5.00  5.00  5.00   \n",
       "1  1.25    1.250000  3.75  2.50   2.5    2.916667  3.75  0.00  1.25   \n",
       "2  2.50    2.500000  3.75  3.75   2.5    3.333333  3.75  2.50  2.50   \n",
       "3  2.50    2.916667  3.75  3.75   2.5    3.333333  2.50  2.50  2.50   \n",
       "4  2.50    3.750000  5.00  3.75   2.5    3.750000  5.00  1.25  3.75   \n",
       "\n",
       "   P4 Overall  Overall                                            Comment  \n",
       "0    5.000000        8                                                NaN  \n",
       "1    1.666667        6  ควรมีระบบเลือกวิชาได้แบบเป็น tab แทนที่ต้องกลั...  \n",
       "2    2.916667        8                                                NaN  \n",
       "3    2.500000        6                                                NaN  \n",
       "4    3.333333        7  ตรงหน้าแรกสุดที่จะมีหน้าต่างฟ้าๆเตือนว่ามีงานอ...  "
      ]
     },
     "execution_count": 4,
     "metadata": {},
     "output_type": "execute_result"
    }
   ],
   "source": [
    "df.head()"
   ]
  },
  {
   "cell_type": "code",
   "execution_count": 5,
   "metadata": {},
   "outputs": [],
   "source": [
    "#The timestamp and comment are unnecessary \n",
    "df = df.drop(['Timestamp', 'Comment'], axis=1)"
   ]
  },
  {
   "cell_type": "markdown",
   "metadata": {},
   "source": [
    "**Finding average score based on questions**"
   ]
  },
  {
   "cell_type": "code",
   "execution_count": 6,
   "metadata": {},
   "outputs": [],
   "source": [
    "q1 = ['P'+str(x)+'Q1' for x in range(1,5)]\n",
    "q2 = ['P'+str(x)+'Q2' for x in range(1,5)]\n",
    "q3 = ['P'+str(x)+'Q3' for x in range(1,5)]"
   ]
  },
  {
   "cell_type": "code",
   "execution_count": 7,
   "metadata": {},
   "outputs": [],
   "source": [
    "for i,question in enumerate([q1,q2,q3]):\n",
    "    df['Q'+str(i+1)+' Overall'] = df[question].sum(axis=1)/4"
   ]
  },
  {
   "cell_type": "code",
   "execution_count": 8,
   "metadata": {},
   "outputs": [
    {
     "data": {
      "text/html": [
       "<div>\n",
       "<style scoped>\n",
       "    .dataframe tbody tr th:only-of-type {\n",
       "        vertical-align: middle;\n",
       "    }\n",
       "\n",
       "    .dataframe tbody tr th {\n",
       "        vertical-align: top;\n",
       "    }\n",
       "\n",
       "    .dataframe thead th {\n",
       "        text-align: right;\n",
       "    }\n",
       "</style>\n",
       "<table border=\"1\" class=\"dataframe\">\n",
       "  <thead>\n",
       "    <tr style=\"text-align: right;\">\n",
       "      <th></th>\n",
       "      <th>Language</th>\n",
       "      <th>P1Q1</th>\n",
       "      <th>P1Q2</th>\n",
       "      <th>P1Q3</th>\n",
       "      <th>P1 Overall</th>\n",
       "      <th>P2Q1</th>\n",
       "      <th>P2Q2</th>\n",
       "      <th>P2Q3</th>\n",
       "      <th>P2 Overall</th>\n",
       "      <th>P3Q1</th>\n",
       "      <th>...</th>\n",
       "      <th>P3Q3</th>\n",
       "      <th>P3 Overall</th>\n",
       "      <th>P4Q1</th>\n",
       "      <th>P4Q2</th>\n",
       "      <th>P4Q3</th>\n",
       "      <th>P4 Overall</th>\n",
       "      <th>Overall</th>\n",
       "      <th>Q1 Overall</th>\n",
       "      <th>Q2 Overall</th>\n",
       "      <th>Q3 Overall</th>\n",
       "    </tr>\n",
       "  </thead>\n",
       "  <tbody>\n",
       "    <tr>\n",
       "      <th>0</th>\n",
       "      <td>English</td>\n",
       "      <td>2.50</td>\n",
       "      <td>2.50</td>\n",
       "      <td>5.00</td>\n",
       "      <td>3.333333</td>\n",
       "      <td>2.50</td>\n",
       "      <td>2.50</td>\n",
       "      <td>3.75</td>\n",
       "      <td>2.916667</td>\n",
       "      <td>5.00</td>\n",
       "      <td>...</td>\n",
       "      <td>5.0</td>\n",
       "      <td>4.583333</td>\n",
       "      <td>5.00</td>\n",
       "      <td>5.00</td>\n",
       "      <td>5.00</td>\n",
       "      <td>5.000000</td>\n",
       "      <td>8</td>\n",
       "      <td>3.7500</td>\n",
       "      <td>3.4375</td>\n",
       "      <td>4.6875</td>\n",
       "    </tr>\n",
       "    <tr>\n",
       "      <th>1</th>\n",
       "      <td>Thai</td>\n",
       "      <td>2.50</td>\n",
       "      <td>3.75</td>\n",
       "      <td>3.75</td>\n",
       "      <td>3.333333</td>\n",
       "      <td>2.50</td>\n",
       "      <td>0.00</td>\n",
       "      <td>1.25</td>\n",
       "      <td>1.250000</td>\n",
       "      <td>3.75</td>\n",
       "      <td>...</td>\n",
       "      <td>2.5</td>\n",
       "      <td>2.916667</td>\n",
       "      <td>3.75</td>\n",
       "      <td>0.00</td>\n",
       "      <td>1.25</td>\n",
       "      <td>1.666667</td>\n",
       "      <td>6</td>\n",
       "      <td>3.1250</td>\n",
       "      <td>1.5625</td>\n",
       "      <td>2.1875</td>\n",
       "    </tr>\n",
       "    <tr>\n",
       "      <th>2</th>\n",
       "      <td>English</td>\n",
       "      <td>3.75</td>\n",
       "      <td>5.00</td>\n",
       "      <td>3.75</td>\n",
       "      <td>4.166667</td>\n",
       "      <td>2.50</td>\n",
       "      <td>2.50</td>\n",
       "      <td>2.50</td>\n",
       "      <td>2.500000</td>\n",
       "      <td>3.75</td>\n",
       "      <td>...</td>\n",
       "      <td>2.5</td>\n",
       "      <td>3.333333</td>\n",
       "      <td>3.75</td>\n",
       "      <td>2.50</td>\n",
       "      <td>2.50</td>\n",
       "      <td>2.916667</td>\n",
       "      <td>8</td>\n",
       "      <td>3.4375</td>\n",
       "      <td>3.4375</td>\n",
       "      <td>2.8125</td>\n",
       "    </tr>\n",
       "    <tr>\n",
       "      <th>3</th>\n",
       "      <td>Thai</td>\n",
       "      <td>1.25</td>\n",
       "      <td>1.25</td>\n",
       "      <td>2.50</td>\n",
       "      <td>1.666667</td>\n",
       "      <td>3.75</td>\n",
       "      <td>2.50</td>\n",
       "      <td>2.50</td>\n",
       "      <td>2.916667</td>\n",
       "      <td>3.75</td>\n",
       "      <td>...</td>\n",
       "      <td>2.5</td>\n",
       "      <td>3.333333</td>\n",
       "      <td>2.50</td>\n",
       "      <td>2.50</td>\n",
       "      <td>2.50</td>\n",
       "      <td>2.500000</td>\n",
       "      <td>6</td>\n",
       "      <td>2.8125</td>\n",
       "      <td>2.5000</td>\n",
       "      <td>2.5000</td>\n",
       "    </tr>\n",
       "    <tr>\n",
       "      <th>4</th>\n",
       "      <td>Thai</td>\n",
       "      <td>2.50</td>\n",
       "      <td>3.75</td>\n",
       "      <td>5.00</td>\n",
       "      <td>3.750000</td>\n",
       "      <td>5.00</td>\n",
       "      <td>3.75</td>\n",
       "      <td>2.50</td>\n",
       "      <td>3.750000</td>\n",
       "      <td>5.00</td>\n",
       "      <td>...</td>\n",
       "      <td>2.5</td>\n",
       "      <td>3.750000</td>\n",
       "      <td>5.00</td>\n",
       "      <td>1.25</td>\n",
       "      <td>3.75</td>\n",
       "      <td>3.333333</td>\n",
       "      <td>7</td>\n",
       "      <td>4.3750</td>\n",
       "      <td>3.1250</td>\n",
       "      <td>3.4375</td>\n",
       "    </tr>\n",
       "  </tbody>\n",
       "</table>\n",
       "<p>5 rows × 21 columns</p>\n",
       "</div>"
      ],
      "text/plain": [
       "  Language  P1Q1  P1Q2  P1Q3  P1 Overall  P2Q1  P2Q2  P2Q3  P2 Overall  P3Q1  \\\n",
       "0  English  2.50  2.50  5.00    3.333333  2.50  2.50  3.75    2.916667  5.00   \n",
       "1     Thai  2.50  3.75  3.75    3.333333  2.50  0.00  1.25    1.250000  3.75   \n",
       "2  English  3.75  5.00  3.75    4.166667  2.50  2.50  2.50    2.500000  3.75   \n",
       "3     Thai  1.25  1.25  2.50    1.666667  3.75  2.50  2.50    2.916667  3.75   \n",
       "4     Thai  2.50  3.75  5.00    3.750000  5.00  3.75  2.50    3.750000  5.00   \n",
       "\n",
       "   ...  P3Q3  P3 Overall  P4Q1  P4Q2  P4Q3  P4 Overall  Overall  Q1 Overall  \\\n",
       "0  ...   5.0    4.583333  5.00  5.00  5.00    5.000000        8      3.7500   \n",
       "1  ...   2.5    2.916667  3.75  0.00  1.25    1.666667        6      3.1250   \n",
       "2  ...   2.5    3.333333  3.75  2.50  2.50    2.916667        8      3.4375   \n",
       "3  ...   2.5    3.333333  2.50  2.50  2.50    2.500000        6      2.8125   \n",
       "4  ...   2.5    3.750000  5.00  1.25  3.75    3.333333        7      4.3750   \n",
       "\n",
       "   Q2 Overall  Q3 Overall  \n",
       "0      3.4375      4.6875  \n",
       "1      1.5625      2.1875  \n",
       "2      3.4375      2.8125  \n",
       "3      2.5000      2.5000  \n",
       "4      3.1250      3.4375  \n",
       "\n",
       "[5 rows x 21 columns]"
      ]
     },
     "execution_count": 8,
     "metadata": {},
     "output_type": "execute_result"
    }
   ],
   "source": [
    "df.head()"
   ]
  },
  {
   "cell_type": "markdown",
   "metadata": {},
   "source": [
    "## Data Exploration\n",
    "I want to explore what factors influenced the user's overall score rating the most.\n",
    "However, since there is only 64 data, the conclusion will not be accurate"
   ]
  },
  {
   "cell_type": "markdown",
   "metadata": {},
   "source": [
    "**Display Language** \n",
    "<br />\n",
    "The assumption will be that the language the user used to display myCourseVille will also be the same language they took for the survey because people would typically have a preferred language."
   ]
  },
  {
   "cell_type": "code",
   "execution_count": 9,
   "metadata": {},
   "outputs": [
    {
     "data": {
      "text/plain": [
       "Thai       46\n",
       "English    18\n",
       "Name: Language, dtype: int64"
      ]
     },
     "execution_count": 9,
     "metadata": {},
     "output_type": "execute_result"
    }
   ],
   "source": [
    "df['Language'].value_counts()"
   ]
  },
  {
   "cell_type": "code",
   "execution_count": 10,
   "metadata": {},
   "outputs": [
    {
     "data": {
      "text/plain": [
       "<matplotlib.axes._subplots.AxesSubplot at 0x293dc1f3088>"
      ]
     },
     "execution_count": 10,
     "metadata": {},
     "output_type": "execute_result"
    },
    {
     "data": {
      "image/png": "[encoded data removed]",
      "text/plain": [
       "<Figure size 432x288 with 1 Axes>"
      ]
     },
     "metadata": {},
     "output_type": "display_data"
    }
   ],
   "source": [
    "sns.boxplot(x='Language', y='Overall', data=df)"
   ]
  },
  {
   "cell_type": "code",
   "execution_count": 11,
   "metadata": {},
   "outputs": [
    {
     "data": {
      "text/plain": [
       "Language\n",
       "English    6.944444\n",
       "Thai       7.565217\n",
       "Name: Overall, dtype: float64"
      ]
     },
     "execution_count": 11,
     "metadata": {},
     "output_type": "execute_result"
    }
   ],
   "source": [
    "df.groupby('Language').mean()['Overall']"
   ]
  },
  {
   "cell_type": "markdown",
   "metadata": {},
   "source": [
    "The data suggested that people who possibly displayed the platform in English language on average rated the platform more negatively than people who possibly displayed the platform in Thai. Since the website myCourseVille was implemented mostly to be used by Thai students, this could reflect that the English translation of the interface could be a little awkward for native English speakers. "
   ]
  },
  {
   "cell_type": "markdown",
   "metadata": {},
   "source": [
    "**Part**\n",
    "<br />\n",
    "Does user concerned most about a specific part/phase of the platform?\n",
    "<br/><br/>\n",
    "\n",
    "Part 1 = Signing up <br/>\n",
    "Part 2 = Finding/Registering course <br/>\n",
    "Part 3 = Finding assignment<br/>\n",
    "Part 4 = Submitting assignment<br/>"
   ]
  },
  {
   "cell_type": "code",
   "execution_count": 12,
   "metadata": {},
   "outputs": [
    {
     "data": {
      "text/plain": [
       "P4 Overall    0.569971\n",
       "P2 Overall    0.588012\n",
       "P3 Overall    0.597466\n",
       "P1 Overall    0.611177\n",
       "Overall       1.000000\n",
       "Name: Overall, dtype: float64"
      ]
     },
     "execution_count": 12,
     "metadata": {},
     "output_type": "execute_result"
    }
   ],
   "source": [
    "df[['P1 Overall', 'P2 Overall', 'P3 Overall', 'P4 Overall', 'Overall']].corr()['Overall'].sort_values()"
   ]
  },
  {
   "cell_type": "code",
   "execution_count": 13,
   "metadata": {},
   "outputs": [
    {
     "data": {
      "text/plain": [
       "<matplotlib.axes._subplots.AxesSubplot at 0x293e12dbc48>"
      ]
     },
     "execution_count": 13,
     "metadata": {},
     "output_type": "execute_result"
    },
    {
     "data": {
      "image/png": "[encoded data removed]",
      "text/plain": [
       "<Figure size 432x288 with 1 Axes>"
      ]
     },
     "metadata": {},
     "output_type": "display_data"
    }
   ],
   "source": [
    "df[['P1 Overall', 'P2 Overall', 'P3 Overall', 'P4 Overall', 'Overall']].corr()['Overall'].drop('Overall').plot.bar()"
   ]
  },
  {
   "cell_type": "code",
   "execution_count": 14,
   "metadata": {},
   "outputs": [
    {
     "data": {
      "text/plain": [
       "Q2 Overall    0.553148\n",
       "Q3 Overall    0.610292\n",
       "Q1 Overall    0.669029\n",
       "Overall       1.000000\n",
       "Name: Overall, dtype: float64"
      ]
     },
     "execution_count": 14,
     "metadata": {},
     "output_type": "execute_result"
    }
   ],
   "source": [
    "df[['Q1 Overall', 'Q2 Overall', 'Q3 Overall', 'Overall']].corr()['Overall'].sort_values()"
   ]
  },
  {
   "cell_type": "code",
   "execution_count": 15,
   "metadata": {},
   "outputs": [
    {
     "data": {
      "text/plain": [
       "<matplotlib.axes._subplots.AxesSubplot at 0x293e144df48>"
      ]
     },
     "execution_count": 15,
     "metadata": {},
     "output_type": "execute_result"
    },
    {
     "data": {
      "image/png": "[encoded data removed]",
      "text/plain": [
       "<Figure size 432x288 with 1 Axes>"
      ]
     },
     "metadata": {},
     "output_type": "display_data"
    }
   ],
   "source": [
    "df[['Q1 Overall', 'Q2 Overall', 'Q3 Overall', 'Overall']].corr()['Overall'].drop('Overall').plot.bar()"
   ]
  },
  {
   "cell_type": "code",
   "execution_count": 16,
   "metadata": {},
   "outputs": [],
   "source": [
    "df = df.drop(['P1 Overall', 'P2 Overall', 'P3 Overall', 'P4 Overall', 'Q1 Overall', 'Q2 Overall', 'Q3 Overall'], axis=1)"
   ]
  },
  {
   "cell_type": "code",
   "execution_count": 17,
   "metadata": {},
   "outputs": [
    {
     "data": {
      "text/html": [
       "<div>\n",
       "<style scoped>\n",
       "    .dataframe tbody tr th:only-of-type {\n",
       "        vertical-align: middle;\n",
       "    }\n",
       "\n",
       "    .dataframe tbody tr th {\n",
       "        vertical-align: top;\n",
       "    }\n",
       "\n",
       "    .dataframe thead th {\n",
       "        text-align: right;\n",
       "    }\n",
       "</style>\n",
       "<table border=\"1\" class=\"dataframe\">\n",
       "  <thead>\n",
       "    <tr style=\"text-align: right;\">\n",
       "      <th></th>\n",
       "      <th>Language</th>\n",
       "      <th>P1Q1</th>\n",
       "      <th>P1Q2</th>\n",
       "      <th>P1Q3</th>\n",
       "      <th>P2Q1</th>\n",
       "      <th>P2Q2</th>\n",
       "      <th>P2Q3</th>\n",
       "      <th>P3Q1</th>\n",
       "      <th>P3Q2</th>\n",
       "      <th>P3Q3</th>\n",
       "      <th>P4Q1</th>\n",
       "      <th>P4Q2</th>\n",
       "      <th>P4Q3</th>\n",
       "      <th>Overall</th>\n",
       "    </tr>\n",
       "  </thead>\n",
       "  <tbody>\n",
       "    <tr>\n",
       "      <th>0</th>\n",
       "      <td>English</td>\n",
       "      <td>2.50</td>\n",
       "      <td>2.50</td>\n",
       "      <td>5.00</td>\n",
       "      <td>2.50</td>\n",
       "      <td>2.50</td>\n",
       "      <td>3.75</td>\n",
       "      <td>5.00</td>\n",
       "      <td>3.75</td>\n",
       "      <td>5.0</td>\n",
       "      <td>5.00</td>\n",
       "      <td>5.00</td>\n",
       "      <td>5.00</td>\n",
       "      <td>8</td>\n",
       "    </tr>\n",
       "    <tr>\n",
       "      <th>1</th>\n",
       "      <td>Thai</td>\n",
       "      <td>2.50</td>\n",
       "      <td>3.75</td>\n",
       "      <td>3.75</td>\n",
       "      <td>2.50</td>\n",
       "      <td>0.00</td>\n",
       "      <td>1.25</td>\n",
       "      <td>3.75</td>\n",
       "      <td>2.50</td>\n",
       "      <td>2.5</td>\n",
       "      <td>3.75</td>\n",
       "      <td>0.00</td>\n",
       "      <td>1.25</td>\n",
       "      <td>6</td>\n",
       "    </tr>\n",
       "    <tr>\n",
       "      <th>2</th>\n",
       "      <td>English</td>\n",
       "      <td>3.75</td>\n",
       "      <td>5.00</td>\n",
       "      <td>3.75</td>\n",
       "      <td>2.50</td>\n",
       "      <td>2.50</td>\n",
       "      <td>2.50</td>\n",
       "      <td>3.75</td>\n",
       "      <td>3.75</td>\n",
       "      <td>2.5</td>\n",
       "      <td>3.75</td>\n",
       "      <td>2.50</td>\n",
       "      <td>2.50</td>\n",
       "      <td>8</td>\n",
       "    </tr>\n",
       "    <tr>\n",
       "      <th>3</th>\n",
       "      <td>Thai</td>\n",
       "      <td>1.25</td>\n",
       "      <td>1.25</td>\n",
       "      <td>2.50</td>\n",
       "      <td>3.75</td>\n",
       "      <td>2.50</td>\n",
       "      <td>2.50</td>\n",
       "      <td>3.75</td>\n",
       "      <td>3.75</td>\n",
       "      <td>2.5</td>\n",
       "      <td>2.50</td>\n",
       "      <td>2.50</td>\n",
       "      <td>2.50</td>\n",
       "      <td>6</td>\n",
       "    </tr>\n",
       "    <tr>\n",
       "      <th>4</th>\n",
       "      <td>Thai</td>\n",
       "      <td>2.50</td>\n",
       "      <td>3.75</td>\n",
       "      <td>5.00</td>\n",
       "      <td>5.00</td>\n",
       "      <td>3.75</td>\n",
       "      <td>2.50</td>\n",
       "      <td>5.00</td>\n",
       "      <td>3.75</td>\n",
       "      <td>2.5</td>\n",
       "      <td>5.00</td>\n",
       "      <td>1.25</td>\n",
       "      <td>3.75</td>\n",
       "      <td>7</td>\n",
       "    </tr>\n",
       "  </tbody>\n",
       "</table>\n",
       "</div>"
      ],
      "text/plain": [
       "  Language  P1Q1  P1Q2  P1Q3  P2Q1  P2Q2  P2Q3  P3Q1  P3Q2  P3Q3  P4Q1  P4Q2  \\\n",
       "0  English  2.50  2.50  5.00  2.50  2.50  3.75  5.00  3.75   5.0  5.00  5.00   \n",
       "1     Thai  2.50  3.75  3.75  2.50  0.00  1.25  3.75  2.50   2.5  3.75  0.00   \n",
       "2  English  3.75  5.00  3.75  2.50  2.50  2.50  3.75  3.75   2.5  3.75  2.50   \n",
       "3     Thai  1.25  1.25  2.50  3.75  2.50  2.50  3.75  3.75   2.5  2.50  2.50   \n",
       "4     Thai  2.50  3.75  5.00  5.00  3.75  2.50  5.00  3.75   2.5  5.00  1.25   \n",
       "\n",
       "   P4Q3  Overall  \n",
       "0  5.00        8  \n",
       "1  1.25        6  \n",
       "2  2.50        8  \n",
       "3  2.50        6  \n",
       "4  3.75        7  "
      ]
     },
     "execution_count": 17,
     "metadata": {},
     "output_type": "execute_result"
    }
   ],
   "source": [
    "df.head()"
   ]
  },
  {
   "cell_type": "code",
   "execution_count": 18,
   "metadata": {},
   "outputs": [],
   "source": [
    "df = pd.concat([df,pd.get_dummies(df['Language'], drop_first=True)], axis=1)"
   ]
  },
  {
   "cell_type": "code",
   "execution_count": 19,
   "metadata": {},
   "outputs": [],
   "source": [
    "df = df.drop('Language', axis=1)"
   ]
  },
  {
   "cell_type": "code",
   "execution_count": 20,
   "metadata": {},
   "outputs": [
    {
     "data": {
      "text/html": [
       "<div>\n",
       "<style scoped>\n",
       "    .dataframe tbody tr th:only-of-type {\n",
       "        vertical-align: middle;\n",
       "    }\n",
       "\n",
       "    .dataframe tbody tr th {\n",
       "        vertical-align: top;\n",
       "    }\n",
       "\n",
       "    .dataframe thead th {\n",
       "        text-align: right;\n",
       "    }\n",
       "</style>\n",
       "<table border=\"1\" class=\"dataframe\">\n",
       "  <thead>\n",
       "    <tr style=\"text-align: right;\">\n",
       "      <th></th>\n",
       "      <th>P1Q1</th>\n",
       "      <th>P1Q2</th>\n",
       "      <th>P1Q3</th>\n",
       "      <th>P2Q1</th>\n",
       "      <th>P2Q2</th>\n",
       "      <th>P2Q3</th>\n",
       "      <th>P3Q1</th>\n",
       "      <th>P3Q2</th>\n",
       "      <th>P3Q3</th>\n",
       "      <th>P4Q1</th>\n",
       "      <th>P4Q2</th>\n",
       "      <th>P4Q3</th>\n",
       "      <th>Overall</th>\n",
       "      <th>Thai</th>\n",
       "    </tr>\n",
       "  </thead>\n",
       "  <tbody>\n",
       "    <tr>\n",
       "      <th>0</th>\n",
       "      <td>2.50</td>\n",
       "      <td>2.50</td>\n",
       "      <td>5.00</td>\n",
       "      <td>2.50</td>\n",
       "      <td>2.50</td>\n",
       "      <td>3.75</td>\n",
       "      <td>5.00</td>\n",
       "      <td>3.75</td>\n",
       "      <td>5.0</td>\n",
       "      <td>5.00</td>\n",
       "      <td>5.00</td>\n",
       "      <td>5.00</td>\n",
       "      <td>8</td>\n",
       "      <td>0</td>\n",
       "    </tr>\n",
       "    <tr>\n",
       "      <th>1</th>\n",
       "      <td>2.50</td>\n",
       "      <td>3.75</td>\n",
       "      <td>3.75</td>\n",
       "      <td>2.50</td>\n",
       "      <td>0.00</td>\n",
       "      <td>1.25</td>\n",
       "      <td>3.75</td>\n",
       "      <td>2.50</td>\n",
       "      <td>2.5</td>\n",
       "      <td>3.75</td>\n",
       "      <td>0.00</td>\n",
       "      <td>1.25</td>\n",
       "      <td>6</td>\n",
       "      <td>1</td>\n",
       "    </tr>\n",
       "    <tr>\n",
       "      <th>2</th>\n",
       "      <td>3.75</td>\n",
       "      <td>5.00</td>\n",
       "      <td>3.75</td>\n",
       "      <td>2.50</td>\n",
       "      <td>2.50</td>\n",
       "      <td>2.50</td>\n",
       "      <td>3.75</td>\n",
       "      <td>3.75</td>\n",
       "      <td>2.5</td>\n",
       "      <td>3.75</td>\n",
       "      <td>2.50</td>\n",
       "      <td>2.50</td>\n",
       "      <td>8</td>\n",
       "      <td>0</td>\n",
       "    </tr>\n",
       "    <tr>\n",
       "      <th>3</th>\n",
       "      <td>1.25</td>\n",
       "      <td>1.25</td>\n",
       "      <td>2.50</td>\n",
       "      <td>3.75</td>\n",
       "      <td>2.50</td>\n",
       "      <td>2.50</td>\n",
       "      <td>3.75</td>\n",
       "      <td>3.75</td>\n",
       "      <td>2.5</td>\n",
       "      <td>2.50</td>\n",
       "      <td>2.50</td>\n",
       "      <td>2.50</td>\n",
       "      <td>6</td>\n",
       "      <td>1</td>\n",
       "    </tr>\n",
       "    <tr>\n",
       "      <th>4</th>\n",
       "      <td>2.50</td>\n",
       "      <td>3.75</td>\n",
       "      <td>5.00</td>\n",
       "      <td>5.00</td>\n",
       "      <td>3.75</td>\n",
       "      <td>2.50</td>\n",
       "      <td>5.00</td>\n",
       "      <td>3.75</td>\n",
       "      <td>2.5</td>\n",
       "      <td>5.00</td>\n",
       "      <td>1.25</td>\n",
       "      <td>3.75</td>\n",
       "      <td>7</td>\n",
       "      <td>1</td>\n",
       "    </tr>\n",
       "  </tbody>\n",
       "</table>\n",
       "</div>"
      ],
      "text/plain": [
       "   P1Q1  P1Q2  P1Q3  P2Q1  P2Q2  P2Q3  P3Q1  P3Q2  P3Q3  P4Q1  P4Q2  P4Q3  \\\n",
       "0  2.50  2.50  5.00  2.50  2.50  3.75  5.00  3.75   5.0  5.00  5.00  5.00   \n",
       "1  2.50  3.75  3.75  2.50  0.00  1.25  3.75  2.50   2.5  3.75  0.00  1.25   \n",
       "2  3.75  5.00  3.75  2.50  2.50  2.50  3.75  3.75   2.5  3.75  2.50  2.50   \n",
       "3  1.25  1.25  2.50  3.75  2.50  2.50  3.75  3.75   2.5  2.50  2.50  2.50   \n",
       "4  2.50  3.75  5.00  5.00  3.75  2.50  5.00  3.75   2.5  5.00  1.25  3.75   \n",
       "\n",
       "   Overall  Thai  \n",
       "0        8     0  \n",
       "1        6     1  \n",
       "2        8     0  \n",
       "3        6     1  \n",
       "4        7     1  "
      ]
     },
     "execution_count": 20,
     "metadata": {},
     "output_type": "execute_result"
    }
   ],
   "source": [
    "df.head()"
   ]
  },
  {
   "cell_type": "code",
   "execution_count": 80,
   "metadata": {},
   "outputs": [],
   "source": [
    "X = df.drop('Overall', axis=1)\n",
    "y = df['Overall']"
   ]
  },
  {
   "cell_type": "code",
   "execution_count": 81,
   "metadata": {},
   "outputs": [],
   "source": [
    "from sklearn.model_selection import train_test_split"
   ]
  },
  {
   "cell_type": "code",
   "execution_count": 82,
   "metadata": {},
   "outputs": [],
   "source": [
    "X_train, X_test, y_train, y_test = train_test_split(X, y, test_size=0.2, random_state=123)"
   ]
  },
  {
   "cell_type": "code",
   "execution_count": 83,
   "metadata": {},
   "outputs": [],
   "source": [
    "from sklearn.preprocessing import StandardScaler"
   ]
  },
  {
   "cell_type": "code",
   "execution_count": 84,
   "metadata": {},
   "outputs": [],
   "source": [
    "std_scaler = StandardScaler().fit(X_train)\n",
    "X_train = std_scaler.transform(X_train)\n",
    "X_test = std_scaler.transform(X_test)"
   ]
  },
  {
   "cell_type": "code",
   "execution_count": 85,
   "metadata": {},
   "outputs": [],
   "source": [
    "from sklearn.linear_model import LinearRegression"
   ]
  },
  {
   "cell_type": "code",
   "execution_count": 86,
   "metadata": {},
   "outputs": [],
   "source": [
    "lm = LinearRegression().fit(X_train, y_train)"
   ]
  },
  {
   "cell_type": "code",
   "execution_count": 87,
   "metadata": {},
   "outputs": [],
   "source": [
    "prediction = lm.predict(X_test)"
   ]
  },
  {
   "cell_type": "code",
   "execution_count": 88,
   "metadata": {},
   "outputs": [],
   "source": [
    "from sklearn.metrics import mean_absolute_error, mean_squared_error, explained_variance_score"
   ]
  },
  {
   "cell_type": "code",
   "execution_count": 89,
   "metadata": {},
   "outputs": [
    {
     "data": {
      "text/plain": [
       "1.2069921650109123"
      ]
     },
     "execution_count": 89,
     "metadata": {},
     "output_type": "execute_result"
    }
   ],
   "source": [
    "mean_absolute_error(y_test, prediction)"
   ]
  },
  {
   "cell_type": "code",
   "execution_count": 90,
   "metadata": {},
   "outputs": [
    {
     "data": {
      "text/plain": [
       "1.7559126165997387"
      ]
     },
     "execution_count": 90,
     "metadata": {},
     "output_type": "execute_result"
    }
   ],
   "source": [
    "mean_squared_error(y_test, prediction)**0.5"
   ]
  },
  {
   "cell_type": "code",
   "execution_count": 91,
   "metadata": {},
   "outputs": [
    {
     "data": {
      "text/plain": [
       "-0.05998606323139799"
      ]
     },
     "execution_count": 91,
     "metadata": {},
     "output_type": "execute_result"
    }
   ],
   "source": [
    "explained_variance_score(y_test, prediction)"
   ]
  },
  {
   "cell_type": "code",
   "execution_count": 92,
   "metadata": {},
   "outputs": [],
   "source": [
    "X = df.drop('Overall', axis=1).values\n",
    "y = df['Overall'].values\n",
    "X_train, X_test, y_train, y_test = train_test_split(X, y, test_size=0.2, random_state=123)"
   ]
  },
  {
   "cell_type": "code",
   "execution_count": 93,
   "metadata": {},
   "outputs": [],
   "source": [
    "from sklearn.preprocessing import MinMaxScaler"
   ]
  },
  {
   "cell_type": "code",
   "execution_count": 94,
   "metadata": {},
   "outputs": [],
   "source": [
    "min_max_scaler = MinMaxScaler().fit(X_train)\n",
    "X_train = min_max_scaler.transform(X_train)\n",
    "X_test = min_max_scaler.transform(X_test)"
   ]
  },
  {
   "cell_type": "code",
   "execution_count": 95,
   "metadata": {},
   "outputs": [],
   "source": [
    "from tensorflow.keras.models import Sequential\n",
    "from tensorflow.keras.layers import Dense, Dropout"
   ]
  },
  {
   "cell_type": "code",
   "execution_count": 96,
   "metadata": {},
   "outputs": [
    {
     "data": {
      "text/plain": [
       "(51, 13)"
      ]
     },
     "execution_count": 96,
     "metadata": {},
     "output_type": "execute_result"
    }
   ],
   "source": [
    "X_train.shape"
   ]
  },
  {
   "cell_type": "code",
   "execution_count": 97,
   "metadata": {},
   "outputs": [],
   "source": [
    "model = Sequential()\n",
    "\n",
    "model.add(Dense(13, activation='relu'))\n",
    "model.add(Dropout(0.2))\n",
    "model.add(Dense(6, activation='relu'))\n",
    "model.add(Dropout(0.2))\n",
    "model.add(Dense(3, activation='relu'))\n",
    "model.add(Dropout(0.2))\n",
    "model.add(Dense(1))\n",
    "\n",
    "model.compile(loss='mse', optimizer='adam')"
   ]
  },
  {
   "cell_type": "code",
   "execution_count": 98,
   "metadata": {},
   "outputs": [],
   "source": [
    "from tensorflow.keras.callbacks import EarlyStopping"
   ]
  },
  {
   "cell_type": "code",
   "execution_count": 99,
   "metadata": {},
   "outputs": [],
   "source": [
    "early_stop = EarlyStopping(monitor='val_loss', mode='min', verbose=1, patience=25)"
   ]
  },
  {
   "cell_type": "code",
   "execution_count": 100,
   "metadata": {},
   "outputs": [
    {
     "name": "stdout",
     "output_type": "stream",
     "text": [
      "Train on 51 samples, validate on 13 samples\n",
      "Epoch 1/1000\n",
      "51/51 [==============================] - 0s 9ms/sample - loss: 60.0614 - val_loss: 61.8190\n",
      "Epoch 2/1000\n",
      "51/51 [==============================] - 0s 137us/sample - loss: 58.2974 - val_loss: 61.2278\n",
      "Epoch 3/1000\n",
      "51/51 [==============================] - 0s 137us/sample - loss: 57.3649 - val_loss: 60.6781\n",
      "Epoch 4/1000\n",
      "51/51 [==============================] - 0s 137us/sample - loss: 57.3314 - val_loss: 60.1467\n",
      "Epoch 5/1000\n",
      "51/51 [==============================] - 0s 137us/sample - loss: 57.6240 - val_loss: 59.6091\n",
      "Epoch 6/1000\n",
      "51/51 [==============================] - 0s 137us/sample - loss: 54.8141 - val_loss: 59.0262\n",
      "Epoch 7/1000\n",
      "51/51 [==============================] - 0s 196us/sample - loss: 55.8877 - val_loss: 58.4501\n",
      "Epoch 8/1000\n",
      "51/51 [==============================] - 0s 156us/sample - loss: 54.3416 - val_loss: 57.8505\n",
      "Epoch 9/1000\n",
      "51/51 [==============================] - 0s 195us/sample - loss: 54.8464 - val_loss: 57.2332\n",
      "Epoch 10/1000\n",
      "51/51 [==============================] - 0s 137us/sample - loss: 53.3911 - val_loss: 56.5638\n",
      "Epoch 11/1000\n",
      "51/51 [==============================] - 0s 215us/sample - loss: 51.9695 - val_loss: 55.8325\n",
      "Epoch 12/1000\n",
      "51/51 [==============================] - 0s 234us/sample - loss: 51.8443 - val_loss: 55.0534\n",
      "Epoch 13/1000\n",
      "51/51 [==============================] - 0s 117us/sample - loss: 50.9760 - val_loss: 54.2363\n",
      "Epoch 14/1000\n",
      "51/51 [==============================] - 0s 156us/sample - loss: 52.3514 - val_loss: 53.4181\n",
      "Epoch 15/1000\n",
      "51/51 [==============================] - 0s 235us/sample - loss: 51.4757 - val_loss: 52.6146\n",
      "Epoch 16/1000\n",
      "51/51 [==============================] - 0s 137us/sample - loss: 49.6976 - val_loss: 51.8074\n",
      "Epoch 17/1000\n",
      "51/51 [==============================] - 0s 196us/sample - loss: 46.8015 - val_loss: 50.9220\n",
      "Epoch 18/1000\n",
      "51/51 [==============================] - 0s 176us/sample - loss: 48.1915 - val_loss: 50.0029\n",
      "Epoch 19/1000\n",
      "51/51 [==============================] - 0s 137us/sample - loss: 47.9126 - val_loss: 49.0711\n",
      "Epoch 20/1000\n",
      "51/51 [==============================] - 0s 176us/sample - loss: 49.4006 - val_loss: 48.1403\n",
      "Epoch 21/1000\n",
      "51/51 [==============================] - 0s 156us/sample - loss: 45.8875 - val_loss: 47.1810\n",
      "Epoch 22/1000\n",
      "51/51 [==============================] - 0s 137us/sample - loss: 47.9614 - val_loss: 46.2006\n",
      "Epoch 23/1000\n",
      "51/51 [==============================] - 0s 235us/sample - loss: 44.0897 - val_loss: 45.1984\n",
      "Epoch 24/1000\n",
      "51/51 [==============================] - 0s 176us/sample - loss: 43.3665 - val_loss: 44.1445\n",
      "Epoch 25/1000\n",
      "51/51 [==============================] - 0s 137us/sample - loss: 43.7146 - val_loss: 43.1317\n",
      "Epoch 26/1000\n",
      "51/51 [==============================] - 0s 254us/sample - loss: 39.2418 - val_loss: 42.0310\n",
      "Epoch 27/1000\n",
      "51/51 [==============================] - 0s 137us/sample - loss: 39.0829 - val_loss: 40.8207\n",
      "Epoch 28/1000\n",
      "51/51 [==============================] - 0s 196us/sample - loss: 38.3186 - val_loss: 39.5407\n",
      "Epoch 29/1000\n",
      "51/51 [==============================] - 0s 196us/sample - loss: 39.2860 - val_loss: 38.2826\n",
      "Epoch 30/1000\n",
      "51/51 [==============================] - 0s 137us/sample - loss: 38.3938 - val_loss: 37.0007\n",
      "Epoch 31/1000\n",
      "51/51 [==============================] - 0s 215us/sample - loss: 39.0286 - val_loss: 35.7274\n",
      "Epoch 32/1000\n",
      "51/51 [==============================] - 0s 254us/sample - loss: 34.2398 - val_loss: 34.4236\n",
      "Epoch 33/1000\n",
      "51/51 [==============================] - 0s 293us/sample - loss: 29.7079 - val_loss: 33.0214\n",
      "Epoch 34/1000\n",
      "51/51 [==============================] - 0s 274us/sample - loss: 30.1484 - val_loss: 31.5958\n",
      "Epoch 35/1000\n",
      "51/51 [==============================] - 0s 235us/sample - loss: 30.5143 - val_loss: 30.2047\n",
      "Epoch 36/1000\n",
      "51/51 [==============================] - 0s 176us/sample - loss: 28.6161 - val_loss: 28.8323\n",
      "Epoch 37/1000\n",
      "51/51 [==============================] - 0s 195us/sample - loss: 29.9819 - val_loss: 27.4718\n",
      "Epoch 38/1000\n",
      "51/51 [==============================] - 0s 196us/sample - loss: 26.6955 - val_loss: 26.1485\n",
      "Epoch 39/1000\n",
      "51/51 [==============================] - 0s 137us/sample - loss: 29.2654 - val_loss: 24.9079\n",
      "Epoch 40/1000\n",
      "51/51 [==============================] - 0s 196us/sample - loss: 24.1019 - val_loss: 23.6774\n",
      "Epoch 41/1000\n",
      "51/51 [==============================] - 0s 137us/sample - loss: 26.5615 - val_loss: 22.4408\n",
      "Epoch 42/1000\n",
      "51/51 [==============================] - 0s 156us/sample - loss: 21.7059 - val_loss: 21.1788\n",
      "Epoch 43/1000\n",
      "51/51 [==============================] - 0s 196us/sample - loss: 28.6215 - val_loss: 20.0466\n",
      "Epoch 44/1000\n",
      "51/51 [==============================] - 0s 156us/sample - loss: 25.5203 - val_loss: 19.0203\n",
      "Epoch 45/1000\n",
      "51/51 [==============================] - 0s 156us/sample - loss: 23.4909 - val_loss: 18.1156\n",
      "Epoch 46/1000\n",
      "51/51 [==============================] - 0s 196us/sample - loss: 26.1353 - val_loss: 17.2236\n",
      "Epoch 47/1000\n",
      "51/51 [==============================] - 0s 156us/sample - loss: 20.5940 - val_loss: 16.3928\n",
      "Epoch 48/1000\n",
      "51/51 [==============================] - 0s 196us/sample - loss: 20.5458 - val_loss: 15.5379\n",
      "Epoch 49/1000\n",
      "51/51 [==============================] - 0s 137us/sample - loss: 26.1495 - val_loss: 14.7550\n",
      "Epoch 50/1000\n",
      "51/51 [==============================] - 0s 137us/sample - loss: 20.3216 - val_loss: 14.0867\n",
      "Epoch 51/1000\n",
      "51/51 [==============================] - 0s 235us/sample - loss: 24.6837 - val_loss: 13.4551\n",
      "Epoch 52/1000\n",
      "51/51 [==============================] - 0s 117us/sample - loss: 19.9685 - val_loss: 12.9287\n",
      "Epoch 53/1000\n",
      "51/51 [==============================] - 0s 176us/sample - loss: 23.5824 - val_loss: 12.6198\n",
      "Epoch 54/1000\n",
      "51/51 [==============================] - 0s 137us/sample - loss: 19.9184 - val_loss: 12.4490\n",
      "Epoch 55/1000\n",
      "51/51 [==============================] - 0s 137us/sample - loss: 26.8995 - val_loss: 12.2448\n",
      "Epoch 56/1000\n",
      "51/51 [==============================] - 0s 411us/sample - loss: 23.0990 - val_loss: 12.0340\n",
      "Epoch 57/1000\n",
      "51/51 [==============================] - 0s 215us/sample - loss: 23.1255 - val_loss: 11.8487\n",
      "Epoch 58/1000\n",
      "51/51 [==============================] - 0s 196us/sample - loss: 27.7490 - val_loss: 11.6729\n",
      "Epoch 59/1000\n",
      "51/51 [==============================] - 0s 137us/sample - loss: 22.6453 - val_loss: 11.5288\n",
      "Epoch 60/1000\n",
      "51/51 [==============================] - 0s 215us/sample - loss: 21.4062 - val_loss: 11.4053\n",
      "Epoch 61/1000\n",
      "51/51 [==============================] - 0s 215us/sample - loss: 25.7696 - val_loss: 11.3324\n",
      "Epoch 62/1000\n",
      "51/51 [==============================] - 0s 176us/sample - loss: 19.1211 - val_loss: 11.2935\n",
      "Epoch 63/1000\n",
      "51/51 [==============================] - 0s 176us/sample - loss: 14.0240 - val_loss: 11.1132\n",
      "Epoch 64/1000\n",
      "51/51 [==============================] - 0s 195us/sample - loss: 25.6579 - val_loss: 10.9112\n",
      "Epoch 65/1000\n",
      "51/51 [==============================] - 0s 235us/sample - loss: 24.9223 - val_loss: 10.7717\n",
      "Epoch 66/1000\n",
      "51/51 [==============================] - 0s 156us/sample - loss: 26.6537 - val_loss: 10.6726\n",
      "Epoch 67/1000\n",
      "51/51 [==============================] - 0s 176us/sample - loss: 20.9709 - val_loss: 10.6791\n",
      "Epoch 68/1000\n",
      "51/51 [==============================] - 0s 156us/sample - loss: 19.2945 - val_loss: 10.6470\n",
      "Epoch 69/1000\n",
      "51/51 [==============================] - 0s 156us/sample - loss: 18.3210 - val_loss: 10.5877\n",
      "Epoch 70/1000\n",
      "51/51 [==============================] - 0s 156us/sample - loss: 12.5537 - val_loss: 10.4959\n",
      "Epoch 71/1000\n",
      "51/51 [==============================] - 0s 137us/sample - loss: 20.6475 - val_loss: 10.3959\n",
      "Epoch 72/1000\n",
      "51/51 [==============================] - 0s 196us/sample - loss: 17.4407 - val_loss: 10.3740\n",
      "Epoch 73/1000\n",
      "51/51 [==============================] - 0s 176us/sample - loss: 21.2281 - val_loss: 10.5330\n",
      "Epoch 74/1000\n",
      "51/51 [==============================] - 0s 156us/sample - loss: 24.6915 - val_loss: 10.7098\n",
      "Epoch 75/1000\n",
      "51/51 [==============================] - 0s 176us/sample - loss: 20.1897 - val_loss: 10.7092\n",
      "Epoch 76/1000\n",
      "51/51 [==============================] - 0s 137us/sample - loss: 27.6412 - val_loss: 10.6808\n",
      "Epoch 77/1000\n"
     ]
    },
    {
     "name": "stdout",
     "output_type": "stream",
     "text": [
      "51/51 [==============================] - 0s 156us/sample - loss: 16.8904 - val_loss: 10.6775\n",
      "Epoch 78/1000\n",
      "51/51 [==============================] - 0s 156us/sample - loss: 22.2995 - val_loss: 10.6418\n",
      "Epoch 79/1000\n",
      "51/51 [==============================] - 0s 196us/sample - loss: 23.6185 - val_loss: 10.6363\n",
      "Epoch 80/1000\n",
      "51/51 [==============================] - 0s 176us/sample - loss: 15.7355 - val_loss: 10.6426\n",
      "Epoch 81/1000\n",
      "51/51 [==============================] - 0s 117us/sample - loss: 21.4244 - val_loss: 10.6309\n",
      "Epoch 82/1000\n",
      "51/51 [==============================] - 0s 156us/sample - loss: 22.8690 - val_loss: 10.6078\n",
      "Epoch 83/1000\n",
      "51/51 [==============================] - 0s 137us/sample - loss: 18.9491 - val_loss: 10.5567\n",
      "Epoch 84/1000\n",
      "51/51 [==============================] - 0s 156us/sample - loss: 18.3504 - val_loss: 10.5401\n",
      "Epoch 85/1000\n",
      "51/51 [==============================] - 0s 137us/sample - loss: 23.6758 - val_loss: 10.5748\n",
      "Epoch 86/1000\n",
      "51/51 [==============================] - 0s 235us/sample - loss: 24.6305 - val_loss: 10.5030\n",
      "Epoch 87/1000\n",
      "51/51 [==============================] - 0s 137us/sample - loss: 21.2485 - val_loss: 10.4382\n",
      "Epoch 88/1000\n",
      "51/51 [==============================] - 0s 137us/sample - loss: 26.5712 - val_loss: 10.5581\n",
      "Epoch 89/1000\n",
      "51/51 [==============================] - 0s 196us/sample - loss: 15.6463 - val_loss: 10.5286\n",
      "Epoch 90/1000\n",
      "51/51 [==============================] - 0s 176us/sample - loss: 22.4941 - val_loss: 10.4262\n",
      "Epoch 91/1000\n",
      "51/51 [==============================] - 0s 196us/sample - loss: 20.9394 - val_loss: 10.3371\n",
      "Epoch 92/1000\n",
      "51/51 [==============================] - 0s 196us/sample - loss: 15.4062 - val_loss: 10.3706\n",
      "Epoch 93/1000\n",
      "51/51 [==============================] - 0s 176us/sample - loss: 13.3617 - val_loss: 10.4032\n",
      "Epoch 94/1000\n",
      "51/51 [==============================] - 0s 234us/sample - loss: 29.0266 - val_loss: 10.3591\n",
      "Epoch 95/1000\n",
      "51/51 [==============================] - 0s 235us/sample - loss: 23.4948 - val_loss: 10.3325\n",
      "Epoch 96/1000\n",
      "51/51 [==============================] - 0s 176us/sample - loss: 21.1739 - val_loss: 10.2346\n",
      "Epoch 97/1000\n",
      "51/51 [==============================] - 0s 196us/sample - loss: 24.2004 - val_loss: 10.2760\n",
      "Epoch 98/1000\n",
      "51/51 [==============================] - 0s 215us/sample - loss: 18.5605 - val_loss: 10.3667\n",
      "Epoch 99/1000\n",
      "51/51 [==============================] - 0s 156us/sample - loss: 26.6675 - val_loss: 10.3424\n",
      "Epoch 100/1000\n",
      "51/51 [==============================] - 0s 176us/sample - loss: 26.3965 - val_loss: 10.2699\n",
      "Epoch 101/1000\n",
      "51/51 [==============================] - 0s 215us/sample - loss: 21.5775 - val_loss: 10.1654\n",
      "Epoch 102/1000\n",
      "51/51 [==============================] - 0s 157us/sample - loss: 19.5457 - val_loss: 10.1054\n",
      "Epoch 103/1000\n",
      "51/51 [==============================] - 0s 195us/sample - loss: 24.3956 - val_loss: 10.1203\n",
      "Epoch 104/1000\n",
      "51/51 [==============================] - 0s 235us/sample - loss: 22.8716 - val_loss: 10.1307\n",
      "Epoch 105/1000\n",
      "51/51 [==============================] - 0s 176us/sample - loss: 21.2682 - val_loss: 10.2751\n",
      "Epoch 106/1000\n",
      "51/51 [==============================] - 0s 137us/sample - loss: 8.1981 - val_loss: 10.3118\n",
      "Epoch 107/1000\n",
      "51/51 [==============================] - 0s 176us/sample - loss: 28.3347 - val_loss: 10.3220\n",
      "Epoch 108/1000\n",
      "51/51 [==============================] - 0s 176us/sample - loss: 19.4910 - val_loss: 10.3288\n",
      "Epoch 109/1000\n",
      "51/51 [==============================] - 0s 137us/sample - loss: 27.8162 - val_loss: 10.3199\n",
      "Epoch 110/1000\n",
      "51/51 [==============================] - 0s 196us/sample - loss: 20.6544 - val_loss: 10.3211\n",
      "Epoch 111/1000\n",
      "51/51 [==============================] - 0s 137us/sample - loss: 14.8376 - val_loss: 10.2822\n",
      "Epoch 112/1000\n",
      "51/51 [==============================] - 0s 137us/sample - loss: 22.1302 - val_loss: 10.0949\n",
      "Epoch 113/1000\n",
      "51/51 [==============================] - 0s 254us/sample - loss: 28.3130 - val_loss: 9.9206\n",
      "Epoch 114/1000\n",
      "51/51 [==============================] - 0s 117us/sample - loss: 19.5175 - val_loss: 9.8499\n",
      "Epoch 115/1000\n",
      "51/51 [==============================] - 0s 215us/sample - loss: 18.9573 - val_loss: 10.0200\n",
      "Epoch 116/1000\n",
      "51/51 [==============================] - 0s 196us/sample - loss: 19.7637 - val_loss: 10.3009\n",
      "Epoch 117/1000\n",
      "51/51 [==============================] - 0s 176us/sample - loss: 21.0114 - val_loss: 10.5772\n",
      "Epoch 118/1000\n",
      "51/51 [==============================] - 0s 176us/sample - loss: 16.5071 - val_loss: 10.6577\n",
      "Epoch 119/1000\n",
      "51/51 [==============================] - 0s 215us/sample - loss: 20.6040 - val_loss: 10.6534\n",
      "Epoch 120/1000\n",
      "51/51 [==============================] - 0s 137us/sample - loss: 15.6326 - val_loss: 10.6088\n",
      "Epoch 121/1000\n",
      "51/51 [==============================] - 0s 176us/sample - loss: 19.9658 - val_loss: 10.4633\n",
      "Epoch 122/1000\n",
      "51/51 [==============================] - 0s 196us/sample - loss: 17.1135 - val_loss: 10.3474\n",
      "Epoch 123/1000\n",
      "51/51 [==============================] - 0s 117us/sample - loss: 18.6187 - val_loss: 10.2362\n",
      "Epoch 124/1000\n",
      "51/51 [==============================] - 0s 196us/sample - loss: 16.9680 - val_loss: 10.0797\n",
      "Epoch 125/1000\n",
      "51/51 [==============================] - 0s 117us/sample - loss: 16.6134 - val_loss: 9.9461\n",
      "Epoch 126/1000\n",
      "51/51 [==============================] - 0s 196us/sample - loss: 23.2511 - val_loss: 9.9417\n",
      "Epoch 127/1000\n",
      "51/51 [==============================] - 0s 196us/sample - loss: 17.8781 - val_loss: 9.9367\n",
      "Epoch 128/1000\n",
      "51/51 [==============================] - 0s 156us/sample - loss: 20.2043 - val_loss: 9.9690\n",
      "Epoch 129/1000\n",
      "51/51 [==============================] - 0s 215us/sample - loss: 25.0176 - val_loss: 10.1263\n",
      "Epoch 130/1000\n",
      "51/51 [==============================] - 0s 176us/sample - loss: 18.8530 - val_loss: 10.2197\n",
      "Epoch 131/1000\n",
      "51/51 [==============================] - 0s 137us/sample - loss: 23.2460 - val_loss: 10.3420\n",
      "Epoch 132/1000\n",
      "51/51 [==============================] - 0s 215us/sample - loss: 22.4853 - val_loss: 10.3826\n",
      "Epoch 133/1000\n",
      "51/51 [==============================] - 0s 137us/sample - loss: 18.9039 - val_loss: 10.3823\n",
      "Epoch 134/1000\n",
      "51/51 [==============================] - 0s 156us/sample - loss: 18.5965 - val_loss: 10.4344\n",
      "Epoch 135/1000\n",
      "51/51 [==============================] - 0s 215us/sample - loss: 18.3630 - val_loss: 10.4928\n",
      "Epoch 136/1000\n",
      "51/51 [==============================] - 0s 157us/sample - loss: 15.2785 - val_loss: 10.5974\n",
      "Epoch 137/1000\n",
      "51/51 [==============================] - 0s 176us/sample - loss: 12.6944 - val_loss: 10.6572\n",
      "Epoch 138/1000\n",
      "51/51 [==============================] - 0s 196us/sample - loss: 16.5418 - val_loss: 10.8391\n",
      "Epoch 139/1000\n",
      "51/51 [==============================] - 0s 137us/sample - loss: 23.4310 - val_loss: 10.9175\n",
      "Epoch 00139: early stopping\n"
     ]
    },
    {
     "data": {
      "text/plain": [
       "<tensorflow.python.keras.callbacks.History at 0x293e74c9508>"
      ]
     },
     "execution_count": 100,
     "metadata": {},
     "output_type": "execute_result"
    }
   ],
   "source": [
    "model.fit(x=X_train, y=y_train, batch_size=16, callbacks=[early_stop], validation_data=(X_test, y_test), epochs=1000)"
   ]
  },
  {
   "cell_type": "code",
   "execution_count": 101,
   "metadata": {},
   "outputs": [
    {
     "data": {
      "text/plain": [
       "<matplotlib.axes._subplots.AxesSubplot at 0x293e7ab95c8>"
      ]
     },
     "execution_count": 101,
     "metadata": {},
     "output_type": "execute_result"
    },
    {
     "data": {
      "image/png": "[encoded data removed]",
      "text/plain": [
       "<Figure size 432x288 with 1 Axes>"
      ]
     },
     "metadata": {},
     "output_type": "display_data"
    }
   ],
   "source": [
    "pd.DataFrame(model.history.history).plot()"
   ]
  },
  {
   "cell_type": "code",
   "execution_count": 102,
   "metadata": {},
   "outputs": [],
   "source": [
    "prediction = model.predict(X_test)"
   ]
  },
  {
   "cell_type": "code",
   "execution_count": 103,
   "metadata": {},
   "outputs": [
    {
     "data": {
      "text/plain": [
       "3.001843287394597"
      ]
     },
     "execution_count": 103,
     "metadata": {},
     "output_type": "execute_result"
    }
   ],
   "source": [
    "mean_absolute_error(y_test, prediction)"
   ]
  },
  {
   "cell_type": "code",
   "execution_count": 104,
   "metadata": {},
   "outputs": [
    {
     "data": {
      "text/plain": [
       "3.304166811341018"
      ]
     },
     "execution_count": 104,
     "metadata": {},
     "output_type": "execute_result"
    }
   ],
   "source": [
    "mean_squared_error(y_test, prediction)**0.5"
   ]
  },
  {
   "cell_type": "code",
   "execution_count": 105,
   "metadata": {},
   "outputs": [
    {
     "data": {
      "text/plain": [
       "0.28718821245473836"
      ]
     },
     "execution_count": 105,
     "metadata": {},
     "output_type": "execute_result"
    }
   ],
   "source": [
    "explained_variance_score(y_test, prediction)"
   ]
  },
  {
   "cell_type": "code",
   "execution_count": null,
   "metadata": {},
   "outputs": [],
   "source": []
  }
 ],
 "metadata": {
  "kernelspec": {
   "display_name": "Python [conda env:ex] *",
   "language": "python",
   "name": "conda-env-ex-py"
  },
  "language_info": {
   "codemirror_mode": {
    "name": "ipython",
    "version": 3
   },
   "file_extension": ".py",
   "mimetype": "text/x-python",
   "name": "python",
   "nbconvert_exporter": "python",
   "pygments_lexer": "ipython3",
   "version": "3.7.6"
  }
 },
 "nbformat": 4,
 "nbformat_minor": 4
}
